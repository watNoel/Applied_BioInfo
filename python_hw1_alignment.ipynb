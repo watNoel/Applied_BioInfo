{
 "cells": [
  {
   "cell_type": "markdown",
   "metadata": {},
   "source": [
    "# Python Homework 1: Alignment\n",
    "\n",
    "\n",
    "### Evaluation\n",
    "\n",
    "To check the correctness of your code, we will run it against prepared test cases.\n",
    "\n",
    "\n",
    "### Notes\n",
    "\n",
    "* Always restart the notebook and rerun from the top to double-check (i.e. reproduce) your solutions.\n",
    "* Here we use the terms \"cost\", \"distance\", and \"penalty\" interchangeably since in this context they represent equivalent ways of looking at the same concepts. It also helps illustrate that these algorithms are quite general and can be applied to many different problems."
   ]
  },
  {
   "cell_type": "markdown",
   "metadata": {},
   "source": [
    "## Global Alignment "
   ]
  },
  {
   "cell_type": "markdown",
   "metadata": {},
   "source": [
    "### Assignment 1.1.\n",
    "\n",
    "Fill in the \"blanks\" in the code below (replace the `# WRITE CONDITION HERE`) with the appopriate logical checks\n",
    "such that this distance function returns the correct distance between two letters.\n",
    "\n",
    "Remember to evaluate the code cell so that the notebook starts using your function.\n",
    "(To evaluate, press `[Shift] + [Enter]` when the edit cursor is in the cell)."
   ]
  },
  {
   "cell_type": "code",
   "execution_count": 2,
   "metadata": {},
   "outputs": [],
   "source": [
    "def dist_global(char1, char2):\n",
    "    \"\"\"\n",
    "    Function that computes the distance between two characters in a sequence,\n",
    "    used for global alignment.\n",
    "    \n",
    "    # Input arguments:\n",
    "    char1, char2 = Values of 2 characters, either nucleobases or gaps, as 1-character strings.\n",
    "    \n",
    "    E.g. char1 = 'A', char2 = 'G'\n",
    "         char1 = 'A', char2 = '-'\n",
    "\n",
    "    # Returns:\n",
    "    The distance (or cost of change) between char1 and char2, using the DIST_... values\n",
    "    \"\"\"\n",
    "    \n",
    "    DIST_MATCH = 0\n",
    "    DIST_GAP = 8\n",
    "    DIST_TRANSITION = 2\n",
    "    DIST_TRANSVERSION = 4\n",
    "    \n",
    "    if char1 == char2:\n",
    "        return DIST_MATCH\n",
    "\n",
    "    if char1== '-' or char2 == '-':\n",
    "        return DIST_GAP\n",
    "\n",
    "    if char1== ('A' or 'G') and char2 == ('G' or 'A'):\n",
    "        return DIST_TRANSITION\n",
    "\n",
    "    if char1==('C' or 'T') and char2 == ('T' or 'C'):\n",
    "        return DIST_TRANSITION\n",
    "\n",
    "    else:\n",
    "        return DIST_TRANSVERSION"
   ]
  },
  {
   "cell_type": "markdown",
   "metadata": {},
   "source": [
    "Check your code with the test below, assuming you use the same values as in the lecture. If you want to experiment with different values, then naturally the test will have to be adapted.\n",
    "\n",
    "It's a good idea to write simple tests for your code even before you actually write the code, if possible.\n",
    "That way you make sure you actually understand what you're solving\n",
    "and provide a sanity check if you need to change the code but keep the same overall logic.\n",
    "\n",
    "#### Test"
   ]
  },
  {
   "cell_type": "code",
   "execution_count": 3,
   "metadata": {},
   "outputs": [
    {
     "name": "stdout",
     "output_type": "stream",
     "text": [
      "True\n",
      "True\n",
      "True\n",
      "True\n",
      "True\n"
     ]
    }
   ],
   "source": [
    "print(dist_global('A', 'G') == 2)\n",
    "print(dist_global('A', '-') == 8)\n",
    "print(dist_global('-','-') == 0)\n",
    "print(dist_global('-','G') == 8)\n",
    "print(dist_global('C','A') == 4) # transversion works"
   ]
  },
  {
   "cell_type": "markdown",
   "metadata": {},
   "source": [
    "### Needleman–Wunsch algorithm\n",
    "\n",
    "Here you are provided with skeleton code to compute the global alignment \n",
    "between two sequences using the Needleman–Wunsch algorithm algorithm.\n",
    "\n",
    "### Assignment 1.2.\n",
    "\n",
    "Fill in the \"blanks\" in the code (replace `### WRITE CODE HERE ###` with actual code)\n",
    "and thus finish this implementation of the algorithm.\n",
    "\n",
    "*Check your code* with the test below this cell.\n",
    "This code cell requires `dist_global()` from the previous assignment, so make sure\n",
    "to solve that first and evaluate that cell (`[Shift]` + `[Enter]`) so that the notebook is aware of it."
   ]
  },
  {
   "cell_type": "code",
   "execution_count": 16,
   "metadata": {},
   "outputs": [],
   "source": [
    "import numpy as np\n",
    "\n",
    "def global_alignment_matrix(seq1, seq2):\n",
    "    \"\"\"\n",
    "    Computes the global alignment matrix D between \n",
    "    sequences seq1 and seq2\n",
    "    \n",
    "    Input:\n",
    "    seq1, seq2 = nucleobase sequences as strings\n",
    "    \n",
    "    E.g. seq1 = 'TATACCTGAAGGGCCT', seq2 = 'TATACGAGACCGTTT'\n",
    "    \n",
    "    Returns:\n",
    "    D = global alignment matrix as 2D numpy array\n",
    "    \"\"\"\n",
    "    #Match_pen=0\n",
    "    #Gap_pen=8\n",
    "    #Transversion_pen=4\n",
    "    #Transition_pen= 2\n",
    "    # Initialize the matrix with all zero values\n",
    "    # (and enforce use of integers, since numpy works with floats by default)\n",
    "    D = np.zeros((len(seq1) + 1, len(seq2) + 1), dtype=int) \n",
    "    \n",
    "    # Initialize horizontal (top) boundary of D using seq1\n",
    "    for i in range(1, len(seq1) + 1):\n",
    "        D[i, 0] = 8*i     # I presume we consider it as gaps, so we add 8\n",
    "        \n",
    "    # Initialize vertical (left) boundary of D using seq2\n",
    "    for j in range(1, len(seq2) + 1):\n",
    "        D[0, j] = 8*j ### WRITE CODE HERE ###\n",
    "    \n",
    "    # Walk through all cells of the matrix,\n",
    "    # updating the current cell by considering a step from 3 possible directions,\n",
    "    # and taking the least \"costly\" of these 3 directions (shortest distance).\n",
    "    for i in range(1, len(seq1) + 1): # i is going across all rows\n",
    "        for j in range(1, len(seq2) + 1): # j is going across all columns\n",
    "            \n",
    "            dist_from_upper_left = dist_global(seq1[i-1], seq2[j-1])\n",
    "            dist_from_above      = dist_global(seq1[i-1], '-')\n",
    "            dist_from_left       = dist_global('-',       seq2[j-1])\n",
    "            \n",
    "            D[i, j] = min(D[i-1, j-1] + dist_from_upper_left,\n",
    "                          D[i-1, j  ] + dist_from_left,\n",
    "                          D[i  , j-1] + dist_from_above)\n",
    "    return D\n",
    "\n",
    "\n",
    "def global_alignment_value(global_alignment_matrix):\n",
    "    \"\"\"\n",
    "    Input:\n",
    "    global_alignment_matrix = a computed global alignment matrix as a numpy array\n",
    "    \n",
    "    Returns:\n",
    "    The lower-right corner of the matrix, since we know that holds\n",
    "    the global alignment value\n",
    "    \"\"\"\n",
    "    lower_right_corner = (global_alignment_matrix.shape[0] - 1, # gives index of last row\n",
    "                          global_alignment_matrix.shape[1] - 1) # gives index of last column\n",
    "    return global_alignment_matrix[lower_right_corner]"
   ]
  },
  {
   "cell_type": "markdown",
   "metadata": {},
   "source": [
    "#### Test"
   ]
  },
  {
   "cell_type": "code",
   "execution_count": 17,
   "metadata": {},
   "outputs": [
    {
     "name": "stdout",
     "output_type": "stream",
     "text": [
      "[[ 0  8 16 24 32 40 48 56 64 72 80]\n",
      " [ 8  0  8 16 24 32 40 48 56 64 72]\n",
      " [16  8  0  8 16 24 32 40 48 56 64]\n",
      " [24 16  8  2 10 18 24 32 40 48 56]\n",
      " [32 24 16 10  2 10 18 26 34 40 48]\n",
      " [40 32 24 16 10  2 10 18 26 34 42]\n",
      " [48 40 32 24 18 10  2 10 18 26 34]\n",
      " [56 48 40 32 26 18 10  2 10 18 26]\n",
      " [64 56 48 40 32 26 18 10  6 10 18]\n",
      " [72 64 56 48 40 34 26 18 12 10 10]]\n",
      "\n",
      "10\n"
     ]
    }
   ],
   "source": [
    "seq1 = 'TACGTCAGC'\n",
    "seq2 = 'TATGTCATGC'\n",
    "\n",
    "D = global_alignment_matrix(seq1, seq2)\n",
    "\n",
    "print(D)\n",
    "print()\n",
    "print(global_alignment_value(D))\n",
    "\n"
   ]
  },
  {
   "cell_type": "markdown",
   "metadata": {},
   "source": [
    "**Expected Output**\n",
    "\n",
    "```\n",
    "[[ 0  8 16 24 32 40 48 56 64 72 80]\n",
    " [ 8  0  8 16 24 32 40 48 56 64 72]\n",
    " [16  8  0  8 16 24 32 40 48 56 64]\n",
    " [24 16  8  2 10 18 24 32 40 48 56]\n",
    " [32 24 16 10  2 10 18 26 34 40 48]\n",
    " [40 32 24 16 10  2 10 18 26 34 42]\n",
    " [48 40 32 24 18 10  2 10 18 26 34]\n",
    " [56 48 40 32 26 18 10  2 10 18 26]\n",
    " [64 56 48 40 32 26 18 10  6 10 18]\n",
    " [72 64 56 48 40 34 26 18 12 10 10]]\n",
    "\n",
    "10\n",
    "```"
   ]
  },
  {
   "cell_type": "markdown",
   "metadata": {},
   "source": [
    "## Local Alignment"
   ]
  },
  {
   "cell_type": "markdown",
   "metadata": {},
   "source": [
    "### Assignment 1.3.\n",
    "\n",
    "Similarly to Assignment 1.1., fill in the blanks in the Python code and finish the function that gives the distance between two characters."
   ]
  },
  {
   "cell_type": "code",
   "execution_count": 18,
   "metadata": {},
   "outputs": [],
   "source": [
    "def dist_local_example(char1, char2):\n",
    "    \"\"\"\n",
    "    Function that computes the distance between two characters in a sequence,\n",
    "    used for local alignment.\n",
    "    \n",
    "    # Input arguments:\n",
    "    char1, char2 = Values of 2 characters, either nucleobases or gaps, as 1-character strings.\n",
    "    \n",
    "    E.g. char1 = 'A', char2 = 'G'\n",
    "         char1 = 'A', char2 = '-'\n",
    "\n",
    "    # Returns:\n",
    "    The distance (or cost of change) between char1 and char2, using the DIST_... values\n",
    "    \"\"\"\n",
    "    \n",
    "    DIST_MATCH = 2\n",
    "    DIST_GAP = -6\n",
    "    DIST_MISMATCH = -4\n",
    "    \n",
    "    if char1==char2:\n",
    "        return DIST_MATCH\n",
    "    \n",
    "    if char1 == '-' or char2 == '-':\n",
    "        return DIST_GAP\n",
    "    \n",
    "    else:\n",
    "        return DIST_MISMATCH"
   ]
  },
  {
   "cell_type": "markdown",
   "metadata": {},
   "source": [
    "Check that the function is correct using the code test below (assuming you use the same costs values as in the lecture).\n",
    "#### Test"
   ]
  },
  {
   "cell_type": "code",
   "execution_count": 19,
   "metadata": {},
   "outputs": [
    {
     "name": "stdout",
     "output_type": "stream",
     "text": [
      "True\n",
      "True\n",
      "True\n"
     ]
    }
   ],
   "source": [
    "print(dist_local_example('A', '-') + dist_local_example('A', 'T') == -10)\n",
    "print(dist_local_example('A', 'C') + dist_local_example('G', 'T') == -8)\n",
    "print(dist_local_example('C', 'C') + dist_local_example('-', 'T') == -4)"
   ]
  },
  {
   "cell_type": "markdown",
   "metadata": {},
   "source": [
    "### Smith-Waterman Local Alignment Algorithm\n",
    "\n",
    "Since it is a variation of the global alignment algorithm,\n",
    "the Smith-Waterman algorithm has a similar structure.\n",
    "A big difference is that one takes the maximum of different possibilities,\n",
    "since once keeps track of an optimum score.\n",
    "\n",
    "### Assignment 1.4.\n",
    "\n",
    "Similar to Assignment 1.2 Your task is to fill in the \"blanks\" and in the ocode and write the Python code that implements it."
   ]
  },
  {
   "cell_type": "code",
   "execution_count": 20,
   "metadata": {},
   "outputs": [],
   "source": [
    "def local_alignment_matrix(seq1, seq2):\n",
    "    \"\"\"\n",
    "    Computes the local alignment matrix D between \n",
    "    sequences seq1 and seq2\n",
    "    \n",
    "    Input:\n",
    "    seq1, seq2 = nucleobase sequences as strings\n",
    "    \n",
    "    E.g. seq1 = 'TATACCTGA', seq2 = 'TATACGAGACCGTTT'\n",
    "    \n",
    "    Returns:\n",
    "    D = local alignment matrix as 2D numpy array\n",
    "    \"\"\"\n",
    "\n",
    "    # Initialize the matrix with all zero values\n",
    "    D = np.zeros((len(seq1) + 1, len(seq2) + 1), dtype=int)\n",
    "    \n",
    "    # Walk through all cells of the matrix,\n",
    "    # updating the current cell by considering a step from 3 possible directions,\n",
    "    # and taking the max of scores corresponding 3 directions.\n",
    "    for i in range(1, len(seq1) + 1):\n",
    "        for j in range(1, len(seq2) + 1):\n",
    "            \n",
    "            dist_from_upper_left = dist_local_example(seq1[i-1],seq2[j-1])\n",
    "            dist_from_above = dist_local_example(seq1[i-1], '-')\n",
    "            dist_from_left = dist_local_example('-', seq2[j-1])\n",
    "            \n",
    "            D[i, j] = max(D[i-1,j-1] + dist_from_upper_left, # coming from diagonal\n",
    "                          D[i-1,j] + dist_from_above, # i denotes a row. so it is the same column but different row\n",
    "                          D[i,j-1] + dist_from_left,    # j denotes cloumn,\n",
    "                          0)  # make sure to have a non-negative value since this is a distance\n",
    "    return D\n",
    "\n",
    "\n",
    "def local_alignment_value(alignment_matrix):\n",
    "    \"\"\"\n",
    "    Input:\n",
    "    global_alignment_matrix = a computed local alignment matrix as a numpy array\n",
    "    \n",
    "    Returns:\n",
    "    The max value of the matrix since we know this \n",
    "    \"\"\"\n",
    "    return alignment_matrix.max()"
   ]
  },
  {
   "cell_type": "markdown",
   "metadata": {},
   "source": [
    "#### Test"
   ]
  },
  {
   "cell_type": "markdown",
   "metadata": {},
   "source": [
    "**Expected Output**\n",
    "\n",
    "```\n",
    "array([[ 0,  0,  0,  0,  0,  0,  0,  0,  0,  0,  0,  0,  0,  0,  0],\n",
    "       [ 0,  0,  0,  0,  0,  0,  2,  0,  2,  2,  0,  2,  0,  0,  0],\n",
    "       [ 0,  0,  0,  0,  0,  0,  2,  0,  2,  4,  0,  2,  0,  0,  0],\n",
    "       [ 0,  2,  0,  2,  0,  2,  0,  0,  0,  0,  0,  0,  4,  2,  2],\n",
    "       [ 0,  0,  4,  0,  4,  0,  0,  0,  0,  0,  0,  0,  0,  0,  0],\n",
    "       [ 0,  2,  0,  6,  0,  6,  0,  0,  0,  0,  0,  0,  2,  2,  2],\n",
    "       [ 0,  0,  0,  0,  2,  0,  8,  2,  2,  2,  0,  2,  0,  0,  0],\n",
    "       [ 0,  0,  0,  0,  0,  0,  2, 10,  4,  0,  4,  0,  0,  0,  0],\n",
    "       [ 0,  2,  0,  2,  0,  2,  0,  4,  6,  0,  0,  0,  2,  2,  2],\n",
    "       [ 0,  0,  0,  0,  0,  0,  4,  0,  6,  8,  2,  2,  0,  0,  0],\n",
    "       [ 0,  0,  0,  0,  0,  0,  2,  0,  2,  8,  4,  4,  0,  0,  0],\n",
    "       [ 0,  0,  0,  0,  0,  0,  0,  4,  0,  2, 10,  4,  0,  0,  0],\n",
    "       [ 0,  0,  0,  0,  0,  0,  2,  0,  6,  2,  4, 12,  6,  0,  0],\n",
    "       [ 0,  0,  0,  0,  0,  0,  0,  4,  0,  2,  4,  6,  8,  2,  0],\n",
    "       [ 0,  2,  0,  2,  0,  2,  0,  0,  0,  0,  0,  0,  8, 10,  4],\n",
    "       [ 0,  0,  4,  0,  4,  0,  0,  0,  0,  0,  0,  0,  2,  4,  6]])\n",
    "\n",
    "12\n",
    "```\n",
    "\n",
    "Since it may be difficult to quickly check large matrices by eye,\n",
    "we can use the `numpy.array_equal()` function to check if the local alignment matrix\n",
    "returned by your code matches the expected matrix."
   ]
  },
  {
   "cell_type": "code",
   "execution_count": 21,
   "metadata": {},
   "outputs": [
    {
     "name": "stdout",
     "output_type": "stream",
     "text": [
      "Alignment matrix matches expected matrix: True\n",
      "[[ 0  0  0  0  0  0  0  0  0  0  0  0  0  0  0]\n",
      " [ 0  0  0  0  0  0  2  0  2  2  0  2  0  0  0]\n",
      " [ 0  0  0  0  0  0  2  0  2  4  0  2  0  0  0]\n",
      " [ 0  2  0  2  0  2  0  0  0  0  0  0  4  2  2]\n",
      " [ 0  0  4  0  4  0  0  0  0  0  0  0  0  0  0]\n",
      " [ 0  2  0  6  0  6  0  0  0  0  0  0  2  2  2]\n",
      " [ 0  0  0  0  2  0  8  2  2  2  0  2  0  0  0]\n",
      " [ 0  0  0  0  0  0  2 10  4  0  4  0  0  0  0]\n",
      " [ 0  2  0  2  0  2  0  4  6  0  0  0  2  2  2]\n",
      " [ 0  0  0  0  0  0  4  0  6  8  2  2  0  0  0]\n",
      " [ 0  0  0  0  0  0  2  0  2  8  4  4  0  0  0]\n",
      " [ 0  0  0  0  0  0  0  4  0  2 10  4  0  0  0]\n",
      " [ 0  0  0  0  0  0  2  0  6  2  4 12  6  0  0]\n",
      " [ 0  0  0  0  0  0  0  4  0  2  4  6  8  2  0]\n",
      " [ 0  2  0  2  0  2  0  0  0  0  0  0  8 10  4]\n",
      " [ 0  0  4  0  4  0  0  0  0  0  0  0  2  4  6]]\n",
      "\n",
      "12\n"
     ]
    }
   ],
   "source": [
    "seq1 = 'GGTATGCTGGCGCTA'\n",
    "seq2 = 'TATATGCGGCGTTT'\n",
    "\n",
    "D = local_alignment_matrix(seq1, seq2)\n",
    "expected_matrix = np.array(\n",
    "   [[ 0,  0,  0,  0,  0,  0,  0,  0,  0,  0,  0,  0,  0,  0,  0],\n",
    "   [ 0,  0,  0,  0,  0,  0,  2,  0,  2,  2,  0,  2,  0,  0,  0],\n",
    "   [ 0,  0,  0,  0,  0,  0,  2,  0,  2,  4,  0,  2,  0,  0,  0],\n",
    "   [ 0,  2,  0,  2,  0,  2,  0,  0,  0,  0,  0,  0,  4,  2,  2],\n",
    "   [ 0,  0,  4,  0,  4,  0,  0,  0,  0,  0,  0,  0,  0,  0,  0],\n",
    "   [ 0,  2,  0,  6,  0,  6,  0,  0,  0,  0,  0,  0,  2,  2,  2],\n",
    "   [ 0,  0,  0,  0,  2,  0,  8,  2,  2,  2,  0,  2,  0,  0,  0],\n",
    "   [ 0,  0,  0,  0,  0,  0,  2, 10,  4,  0,  4,  0,  0,  0,  0],\n",
    "   [ 0,  2,  0,  2,  0,  2,  0,  4,  6,  0,  0,  0,  2,  2,  2],\n",
    "   [ 0,  0,  0,  0,  0,  0,  4,  0,  6,  8,  2,  2,  0,  0,  0],\n",
    "   [ 0,  0,  0,  0,  0,  0,  2,  0,  2,  8,  4,  4,  0,  0,  0],\n",
    "   [ 0,  0,  0,  0,  0,  0,  0,  4,  0,  2, 10,  4,  0,  0,  0],\n",
    "   [ 0,  0,  0,  0,  0,  0,  2,  0,  6,  2,  4, 12,  6,  0,  0],\n",
    "   [ 0,  0,  0,  0,  0,  0,  0,  4,  0,  2,  4,  6,  8,  2,  0],\n",
    "   [ 0,  2,  0,  2,  0,  2,  0,  0,  0,  0,  0,  0,  8, 10,  4],\n",
    "   [ 0,  0,  4,  0,  4,  0,  0,  0,  0,  0,  0,  0,  2,  4,  6]])\n",
    "\n",
    "\n",
    "print(\"Alignment matrix matches expected matrix:\", np.array_equal(expected_matrix, D))\n",
    "print(D)\n",
    "print()\n",
    "print(local_alignment_value(D))"
   ]
  },
  {
   "cell_type": "code",
   "execution_count": null,
   "metadata": {},
   "outputs": [],
   "source": []
  }
 ],
 "metadata": {
  "kernelspec": {
   "display_name": "Python 3",
   "language": "python",
   "name": "python3"
  },
  "language_info": {
   "codemirror_mode": {
    "name": "ipython",
    "version": 3
   },
   "file_extension": ".py",
   "mimetype": "text/x-python",
   "name": "python",
   "nbconvert_exporter": "python",
   "pygments_lexer": "ipython3",
   "version": "3.7.4"
  }
 },
 "nbformat": 4,
 "nbformat_minor": 2
}
