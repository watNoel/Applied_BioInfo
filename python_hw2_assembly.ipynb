{
 "cells": [
  {
   "cell_type": "markdown",
   "metadata": {},
   "source": [
    "# Python Homework 2: Assembly\n",
    "\n",
    "### Evaluation\n",
    "\n",
    "To check the correctness of your code, we will run it against prepared test cases."
   ]
  },
  {
   "cell_type": "markdown",
   "metadata": {},
   "source": [
    "## Greedy shortest common superstring algorithm\n",
    "\n",
    "### Assignment 2.1\n",
    "\n",
    "Below you have the skeleton code for implementing the Greedy SCS assembly method.\n",
    "\n",
    "Some key parts of the procedure have been left for you to write.\n",
    "Replace these (`### WRITE CODE HERE ###`) sections with your own solutions.\n",
    "\n",
    "Try to understand what aim of the functions is and which steps may be required to achieve this.\n",
    "It's also a good idea to play with simple examples, on paper,\n",
    "but even as simple test code that you can re-run while you work on the code.\n",
    "\n",
    "Another useful programming technique is to insert `print(<mysterious_variable>)` \n",
    "statements in places where you want to inspect intermediate values.\n",
    "\n",
    "You are also free to change the overall structure if you have a better design in mind or if\n",
    "you are confused about the logic and become stuck."
   ]
  },
  {
   "cell_type": "code",
   "execution_count": 1,
   "metadata": {},
   "outputs": [],
   "source": [
    "import itertools\n",
    "\n",
    "def len_overlap(seq1, seq2):\n",
    "    \"\"\"\n",
    "    Find the longest overlap between a suffix of seq1 and a prefix of seq2\n",
    "    and return its length.\n",
    "    E.g. len_overlap('abc123', '123xyz') == 3\n",
    "    \"\"\"\n",
    "    \n",
    "    # We take shorter and shorter suffixes of seq1\n",
    "    # and test whether they overlap with a prefix of seq2.\n",
    "    # Start at index 0 in seq1 (i.e. thus including seq1 entirely)\n",
    "    overlap_start_index = 0\n",
    "    while overlap_start_index < len(seq1) and overlap_start_index <len(seq2):\n",
    "        if seq1[overlap_start_index:] == seq2[:len(seq1[overlap_start_index:])]: # this way i take the right length of the string,\n",
    "            # note, it can be made faster by making some precomputations!\n",
    "            return len(seq1) - overlap_start_index\n",
    "        else:\n",
    "            overlap_start_index += 1\n",
    "    return 0"
   ]
  },
  {
   "cell_type": "code",
   "execution_count": null,
   "metadata": {},
   "outputs": [],
   "source": [
    "seq1= 'dds tringer'\n",
    "seq2=\"ingerdsdwd\"\n",
    "ostart= 6\n",
    "print(seq1[ostart:])\n",
    "print(seq2[:len(seq1[ostart:])])\n",
    "print(seq2[:len(seq1[ostart:])])\n",
    "print((seq1[ostart:] == seq2[:len(seq1[ostart:])]))"
   ]
  },
  {
   "cell_type": "code",
   "execution_count": 2,
   "metadata": {},
   "outputs": [],
   "source": [
    "def greedy_shortest_common_superstring(strings):\n",
    "    \"\"\"\n",
    "    Takes a list of strings and computes\n",
    "    an approximation of the shortest common supperstring (SCS),\n",
    "    using a greedy algorithm.\n",
    "    \n",
    "    Input:\n",
    "    strings = list of strings e.g. ['ABCD', 'CDBC', 'BCDA']\n",
    "    \n",
    "    Returns:\n",
    "    shortest_superstring = the approximation of the SCS of the input list of strings\n",
    "    E.g. 'ABCDBCDA'\n",
    "    \"\"\"\n",
    "    # Start off with no SCS\n",
    "    shortest_superstring = None\n",
    "    \n",
    "    # Consider all permutations of the input list of stings\n",
    "    for list_permutation in itertools.permutations(strings): # iterates through all possible orders of all input strings\n",
    "        #print(list_permutation)\n",
    "        # For the current permutation,\n",
    "        # start constructing the superstring using the first string in the permutation\n",
    "        superstring = list_permutation[0]    # gives the first string of current premutation in totality\n",
    "        # Go over all strings in this permutation and overlap consecutive strings i and i + 1\n",
    "        for i in range(len(strings) - 1 ): # the range here simply loops over number of strings -1\n",
    "            # determine length of the overlap ...\n",
    "            overlap_length = len_overlap(list_permutation[i],list_permutation[i+1])\n",
    "            #print(list_permutation[i], list_permutation[i+1])\n",
    "            # ... and use this to get the non-overlapping part of string i + 1\n",
    "            non_overlapping_portion = list_permutation[i+1][overlap_length:] # skip the overlap, the start to take sequences\n",
    "            # The non-overlapping part of string i + 1 is then pasted \n",
    "            # to the end of the superstring we are growing for this permutation\n",
    "            superstring += non_overlapping_portion\n",
    "            #print(superstring)\n",
    "        # If this is the first permutation we consider,\n",
    "        # of it turns out that the superstring we grew for this permutation of input strings\n",
    "        # is shorter than our current SCS candidate, make the current superstring the new SCS candidate\n",
    "        if shortest_superstring is None or len(superstring) < len(shortest_superstring): # a guess here, \n",
    "            # code does not account for equal length of superstrings, wehre 1 shouldn't be chosen over the other?\n",
    "            shortest_superstring = superstring\n",
    "            \n",
    "    return shortest_superstring"
   ]
  },
  {
   "cell_type": "markdown",
   "metadata": {},
   "source": [
    "## Tests\n",
    "\n",
    "These are run when completing assignment to learn how things function"
   ]
  },
  {
   "cell_type": "code",
   "execution_count": null,
   "metadata": {},
   "outputs": [],
   "source": [
    "strings=['ABCD', 'CDBC', 'BCDA']\n",
    "overlap_length=2\n",
    "#for list_permutation in itertools.permutations(['ABCD', 'CDBC', 'BCDA']):\n",
    "    #    print(list_permutation)\n",
    "     #   print(len(['ABCD', 'CDBC', 'BCDA']))\n",
    "print((strings[1][2:]))\n",
    "print(range(len(strings) - 1))\n",
    "print(max(range(0, 2))) # oh, it is just 1, therefore no over indexing in list_permutation[i+1]"
   ]
  },
  {
   "cell_type": "markdown",
   "metadata": {},
   "source": [
    "### Thoughts for the above\n",
    "I want to first compare all strings, and find which strings have the absolute longest overlap(of all strings compared to all strings)?. Then combine these 2 with respect to the overlap. Then repeat the process until all sequences are connected\n",
    "If no overlap exists, I should simply append the current string with the upcoming one.\n",
    "note that range(0,2) gives values 0 and 1."
   ]
  },
  {
   "cell_type": "code",
   "execution_count": 3,
   "metadata": {},
   "outputs": [
    {
     "name": "stdout",
     "output_type": "stream",
     "text": [
      "True\n",
      "True\n",
      "True\n",
      "True\n"
     ]
    }
   ],
   "source": [
    "print(len_overlap('abc123', '123xyz') == 3)\n",
    "print(len_overlap('abc1234', '1234xyz') == 4)\n",
    "\n",
    "print(greedy_shortest_common_superstring(['ABCD', 'CDBC', 'BCDA']) == 'ABCDBCDA')\n",
    "print(greedy_shortest_common_superstring(['BAA', 'AAB', 'BBA', 'ABA', 'ABB', 'BBB', 'AAA', 'BAB']) == 'BAAABABBBA')\n",
    "#print(greedy_shortest_common_superstring(['ABCD', 'CDBC', 'BCDA']))"
   ]
  },
  {
   "cell_type": "code",
   "execution_count": null,
   "metadata": {},
   "outputs": [],
   "source": []
  }
 ],
 "metadata": {
  "kernelspec": {
   "display_name": "Python 3",
   "language": "python",
   "name": "python3"
  },
  "language_info": {
   "codemirror_mode": {
    "name": "ipython",
    "version": 3
   },
   "file_extension": ".py",
   "mimetype": "text/x-python",
   "name": "python",
   "nbconvert_exporter": "python",
   "pygments_lexer": "ipython3",
   "version": "3.7.4"
  }
 },
 "nbformat": 4,
 "nbformat_minor": 2
}
