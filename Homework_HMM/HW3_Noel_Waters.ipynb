{
  "nbformat": 4,
  "nbformat_minor": 0,
  "metadata": {
    "colab": {
      "name": "Untitled0.ipynb",
      "provenance": [],
      "collapsed_sections": [],
      "toc_visible": true
    },
    "kernelspec": {
      "name": "python3",
      "display_name": "Python 3"
    }
  },
  "cells": [
    {
      "cell_type": "markdown",
      "metadata": {
        "id": "fbHFu4zg3DIy",
        "colab_type": "text"
      },
      "source": [
        "I begin by importing everything necessary for the program to function\n"
      ]
    },
    {
      "cell_type": "code",
      "metadata": {
        "id": "PWQMfV622Auu",
        "colab_type": "code",
        "outputId": "e042eb05-81d2-4f29-adb6-5a7a0f1ad876",
        "colab": {
          "base_uri": "https://localhost:8080/",
          "height": 901
        }
      },
      "source": [
        "%%bash\n",
        "\n",
        "pip install hmmlearn\n",
        "pip install biopython\n",
        "pip install gffutils\n",
        "wget --quiet https://downloads.yeastgenome.org/sequence/S288C_reference/genome_releases/S288C_reference_genome_Current_Release.tgz\n",
        "tar -xzvf S288C_reference_genome_Current_Release.tgz\n",
        "mv S288C_reference_genome_R64-2-1_20150113 data\n",
        "rm S288C_reference_genome_Current_Release.tgz"
      ],
      "execution_count": 1,
      "outputs": [
        {
          "output_type": "stream",
          "text": [
            "Collecting hmmlearn\n",
            "  Downloading https://files.pythonhosted.org/packages/ff/7b/33f629a443a0671161c019e55c3f1b511c7e9fdce5ab8c8c3c33470eb939/hmmlearn-0.2.3-cp36-cp36m-manylinux1_x86_64.whl (363kB)\n",
            "Requirement already satisfied: scikit-learn>=0.16 in /usr/local/lib/python3.6/dist-packages (from hmmlearn) (0.22.2.post1)\n",
            "Requirement already satisfied: numpy>=1.10 in /usr/local/lib/python3.6/dist-packages (from hmmlearn) (1.18.1)\n",
            "Requirement already satisfied: scipy>=0.15 in /usr/local/lib/python3.6/dist-packages (from hmmlearn) (1.4.1)\n",
            "Requirement already satisfied: joblib>=0.11 in /usr/local/lib/python3.6/dist-packages (from scikit-learn>=0.16->hmmlearn) (0.14.1)\n",
            "Installing collected packages: hmmlearn\n",
            "Successfully installed hmmlearn-0.2.3\n",
            "Collecting biopython\n",
            "  Downloading https://files.pythonhosted.org/packages/83/3d/e0c8a993dbea1136be90c31345aefc5babdd5046cd52f81c18fc3fdad865/biopython-1.76-cp36-cp36m-manylinux1_x86_64.whl (2.3MB)\n",
            "Requirement already satisfied: numpy in /usr/local/lib/python3.6/dist-packages (from biopython) (1.18.1)\n",
            "Installing collected packages: biopython\n",
            "Successfully installed biopython-1.76\n",
            "Collecting gffutils\n",
            "  Downloading https://files.pythonhosted.org/packages/87/d6/f893f14fd6cf1c9e758259f6e0f9ba1ae03370988d8f1a3ea8d790ca5b06/gffutils-0.10.1.tar.gz (1.5MB)\n",
            "Collecting pyfaidx>=0.5.5.2\n",
            "  Downloading https://files.pythonhosted.org/packages/d9/eb/bca4c916d2cde775b5127cef22f276142b01e89fc31fecd832ed996dc97e/pyfaidx-0.5.8.tar.gz\n",
            "Requirement already satisfied: six>=1.12.0 in /usr/local/lib/python3.6/dist-packages (from gffutils) (1.12.0)\n",
            "Collecting argh>=0.26.2\n",
            "  Downloading https://files.pythonhosted.org/packages/06/1c/e667a7126f0b84aaa1c56844337bf0ac12445d1beb9c8a6199a7314944bf/argh-0.26.2-py2.py3-none-any.whl\n",
            "Collecting argcomplete>=1.9.4\n",
            "  Downloading https://files.pythonhosted.org/packages/82/7d/455e149c28c320044cb763c23af375bd77d52baca041f611f5c2b4865cf4/argcomplete-1.11.1-py2.py3-none-any.whl\n",
            "Collecting simplejson\n",
            "  Downloading https://files.pythonhosted.org/packages/98/87/a7b98aa9256c8843f92878966dc3d8d914c14aad97e2c5ce4798d5743e07/simplejson-3.17.0.tar.gz (83kB)\n",
            "Requirement already satisfied: setuptools>=0.7 in /usr/local/lib/python3.6/dist-packages (from pyfaidx>=0.5.5.2->gffutils) (45.2.0)\n",
            "Requirement already satisfied: importlib-metadata<2,>=0.23; python_version == \"3.6\" in /usr/local/lib/python3.6/dist-packages (from argcomplete>=1.9.4->gffutils) (1.5.0)\n",
            "Requirement already satisfied: zipp>=0.5 in /usr/local/lib/python3.6/dist-packages (from importlib-metadata<2,>=0.23; python_version == \"3.6\"->argcomplete>=1.9.4->gffutils) (3.1.0)\n",
            "Building wheels for collected packages: gffutils, pyfaidx, simplejson\n",
            "  Building wheel for gffutils (setup.py): started\n",
            "  Building wheel for gffutils (setup.py): finished with status 'done'\n",
            "  Created wheel for gffutils: filename=gffutils-0.10.1-cp36-none-any.whl size=1608578 sha256=1d81e125f3b21e96c03a5e7dc3aa96f56153181d5d45a77166846185fd68d769\n",
            "  Stored in directory: /root/.cache/pip/wheels/52/c8/8c/5b5edef863b51b00f822fd7783608ea7a09b4ab75b87226479\n",
            "  Building wheel for pyfaidx (setup.py): started\n",
            "  Building wheel for pyfaidx (setup.py): finished with status 'done'\n",
            "  Created wheel for pyfaidx: filename=pyfaidx-0.5.8-cp36-none-any.whl size=25051 sha256=1954d01d3e1f5456deed4a114b5b897019a37bcbec66427f3fea2349be786c67\n",
            "  Stored in directory: /root/.cache/pip/wheels/58/ea/ee/59d4649b0fb82a0690bdeae834bc85891b306126bcc067e29f\n",
            "  Building wheel for simplejson (setup.py): started\n",
            "  Building wheel for simplejson (setup.py): finished with status 'done'\n",
            "  Created wheel for simplejson: filename=simplejson-3.17.0-cp36-cp36m-linux_x86_64.whl size=114215 sha256=30d1f9b12f5f9c30072af3e9f890b5a4aa2fa34d253fc2b944c166c54c472c06\n",
            "  Stored in directory: /root/.cache/pip/wheels/86/c0/83/dcd0339abb2640544bb8e0938aab2d069cef55e5647ce6e097\n",
            "Successfully built gffutils pyfaidx simplejson\n",
            "Installing collected packages: pyfaidx, argh, argcomplete, simplejson, gffutils\n",
            "Successfully installed argcomplete-1.11.1 argh-0.26.2 gffutils-0.10.1 pyfaidx-0.5.8 simplejson-3.17.0\n",
            "S288C_reference_genome_R64-2-1_20150113/\n",
            "S288C_reference_genome_R64-2-1_20150113/rna_coding_R64-2-1_20150113.fasta\n",
            "S288C_reference_genome_R64-2-1_20150113/NotFeature_R64-2-1_20150113.fasta\n",
            "S288C_reference_genome_R64-2-1_20150113/orf_coding_all_R64-2-1_20150113.fasta\n",
            "S288C_reference_genome_R64-2-1_20150113/other_features_genomic_R64-2-1_20150113.fasta\n",
            "S288C_reference_genome_R64-2-1_20150113/S288C_reference_sequence_R64-2-1_20150113.fsa\n",
            "S288C_reference_genome_R64-2-1_20150113/gene_association_R64-2-1_20150113.sgd\n",
            "S288C_reference_genome_R64-2-1_20150113/orf_trans_all_R64-2-1_20150113.fasta\n",
            "S288C_reference_genome_R64-2-1_20150113/saccharomyces_cerevisiae_R64-2-1_20150113.gff\n"
          ],
          "name": "stdout"
        }
      ]
    },
    {
      "cell_type": "code",
      "metadata": {
        "id": "OuYjvZtbyA1M",
        "colab_type": "code",
        "colab": {}
      },
      "source": [
        "# then i continue with your code for diffent aspects of the program\n",
        "\n",
        "# Python built-ins\n",
        "import re\n",
        "import time\n",
        "\n",
        "# Installed packages\n",
        "import numpy as np\n",
        "from hmmlearn import hmm\n",
        "from Bio import SeqIO\n",
        "\n",
        "\n",
        "def translate_symbol_sequence_to_numbers(symbol_sequence: str, symbol_alphabet: list) -> list:\n",
        "    \"\"\"\n",
        "    Translate emission symbols to numbers so that the HMM model can work with them\n",
        "    \"\"\"\n",
        "    translation_table = {symbol_alphabet[i]: i \n",
        "                         for i in range(len(symbol_alphabet))}\n",
        "    return [translation_table[symbol] for symbol in symbol_sequence]\n",
        "\n",
        "\n",
        "def translate_numbers_to_symbol_sequence(number_sequence: list, symbol_alphabet: list) -> str:\n",
        "    \"\"\"\n",
        "    Translate HMM hidden state numbers into symbols\n",
        "    \"\"\"\n",
        "    symbols = [symbol_alphabet[x] for x in number_sequence]\n",
        "    return ''.join(symbols)\n",
        "\n",
        "\n",
        "def get_gene_start_and_stop_from_annotation(annotation: str, gene_pattern: str) -> list:\n",
        "    \"\"\"\n",
        "    Return a list of (start_pos, end_pos) pairs for found genes.\n",
        "\n",
        "    Needs a regular expression (gene_pattern) that describes what a gene looks like\n",
        "    in terms of hidden states.\n",
        "    \n",
        "    Example:   \n",
        "        gene_pattern = 'C+'   # a sequence which consists of at least one C\n",
        "        annotation = 'NNCCNCCN'\n",
        "        \n",
        "        returns [(2, 4), (5, 7)]\n",
        "    \"\"\"\n",
        "    gene_positions = []\n",
        "    for match in re.finditer(gene_pattern, annotation):\n",
        "        gene_positions.append(match.span())\n",
        "    return gene_positions\n",
        "\n",
        "\n",
        "def translate_genes(gene_positions: list, dna_sequence) -> list:\n",
        "    aa_sequences = []\n",
        "    for gene_pos in gene_positions:\n",
        "        aa = dna_sequence[gene_pos[0] : gene_pos[1]].transcribe().translate()\n",
        "        aa_sequences.append(aa)\n",
        "    return aa_sequences\n",
        "\n",
        "#aa_sequences = translate_genes(gene_positions, ref_chromosomes[0].seq)\n",
        "\n",
        "# Preview\n",
        "#aa_sequences[0]\n",
        "#str(aa_sequences[0])\n",
        "\n",
        "\n",
        "## useful for plotting distribution of lengths\n",
        "def plot_protein_length_distribution(aa_sequences: list):\n",
        "    import pandas as pd\n",
        "    pd.DataFrame({'gene length': map(lambda s: len(s), aa_sequences)}).hist(log=True)\n",
        "\n",
        "#plot_protein_length_distribution(aa_sequences)\n",
        "\n",
        "\n",
        "def read_protein_sequences_from_fasta(fasta_filename: str) -> list:\n",
        "     return list(SeqIO.parse(fasta_filename, 'fasta'))\n",
        "\n",
        "def save_sequences_as_fasta(sequences: list, fasta_filename: str):\n",
        "    fasta_entries = []\n",
        "    for i in range(len(sequences)):\n",
        "        if len(sequences[i]) > 20:   # shortest known protein in any organism\n",
        "            fasta_entries.append(f'>gene{i}\\n{sequences[i]}\\n')\n",
        "    with open(fasta_filename, 'w') as output_fasta:\n",
        "        output_fasta.writelines(fasta_entries)\n",
        "    print(f'INFO: Wrote {len(fasta_entries)} protein sequences')   \n"
      ],
      "execution_count": 0,
      "outputs": []
    },
    {
      "cell_type": "markdown",
      "metadata": {
        "id": "4v0zsVTJTuqi",
        "colab_type": "text"
      },
      "source": [
        "## Next: Prepare training data and load reference genome\n",
        "\n",
        "`hmmlearn` wants training sequences to be columns in a matrix. So here we structure the chromosome sequences that way, also converting from symbolic to numeric representation.  Details: https://hmmlearn.readthedocs.io/en/latest/tutorial.html#multiple-sequences"
      ]
    },
    {
      "cell_type": "code",
      "metadata": {
        "colab_type": "code",
        "outputId": "91d45fa3-6d5f-4ba0-ac6d-cda3f29832f9",
        "id": "rDfUOsZK5R8R",
        "colab": {
          "base_uri": "https://localhost:8080/",
          "height": 102
        }
      },
      "source": [
        "ref_chromosomes = list(SeqIO.parse('data/S288C_reference_sequence_R64-2-1_20150113.fsa', 'fasta'))\n",
        "print(ref_chromosomes[16]) #https://biopython.org/wiki/SeqIO   # there are 17 chromosomes!\n",
        "#print(len(test_data))\n",
        "#print(trainig_lengths)\n",
        "\n",
        "#print(basic_model.transmat_)\n",
        "#print(basic_model.startprob_)\n",
        "#print(basic_model.tol)\n"
      ],
      "execution_count": 3,
      "outputs": [
        {
          "output_type": "stream",
          "text": [
            "ID: ref|NC_001224|\n",
            "Name: ref|NC_001224|\n",
            "Description: ref|NC_001224| [org=Saccharomyces cerevisiae] [strain=S288C] [moltype=genomic] [location=mitochondrion] [top=circular]\n",
            "Number of features: 0\n",
            "Seq('TTCATAATTAATTTTTTATATATATATTATATTATAATATTAATTTATATTATA...ATA', SingleLetterAlphabet())\n"
          ],
          "name": "stdout"
        }
      ]
    },
    {
      "cell_type": "markdown",
      "metadata": {
        "id": "U37nU3sUYwDN",
        "colab_type": "text"
      },
      "source": [
        "# Next, my work!\n",
        "I experimented with tweaking the number of iterations. It seems that going up from 10 to maybe 30 makes a huge difference for the end result in terms of length distributions, but later it only starts taking a lot of time to do the computation. This indicates the algorith I use, \"Viterbi\" converges somewhere between 10 and 30 iterations in my case. This should depend on the initial guess and number of training chromosomes though, and I only tested this when running on 2 chromosomesdue to the computation time for more chromosomes!"
      ]
    },
    {
      "cell_type": "code",
      "metadata": {
        "id": "PIvO5q684ooT",
        "colab_type": "code",
        "outputId": "a53c8535-79ee-449c-840b-26b871cc218f",
        "colab": {
          "base_uri": "https://localhost:8080/",
          "height": 102
        }
      },
      "source": [
        "# MY WORK! Model based on 3 codon positions, introns and intergenic regions\n",
        "\n",
        "# in this setting, a gene region is when it is not in state N! \n",
        "hidden_states = ['1','2','3','N','I']        # Called \"components\" in this package # I is intron region, N is intergenic region, number is codon position 1 2 or 3\n",
        "emission_labels = ['A','C','G','T']   # Called \"features\"\n",
        "MAX_N_BAUM_WELCH_ITERATIONS = 30   # HERE ONE CAN CHANGE!\n",
        "\n",
        "# Create model object\n",
        "basic_model = hmm.MultinomialHMM(n_components = len(hidden_states), # number of states\n",
        "                                 n_iter = MAX_N_BAUM_WELCH_ITERATIONS,\n",
        "                                 init_params=\"\") # maybe i dont want to guess the emissionprobabilities, if so, just type in \"e\"\n",
        "\n",
        "# Adjust its parameters\n",
        "basic_model.n_features = len(emission_labels)\n",
        "\n",
        "# Order of elements must match those in the component and features lists above\n",
        "basic_model.startprob_ = np.array([0, 0, 0, 1, 0])    # much more likely to start on a noncoding sequence, in fact guaranteed!\n",
        "\n",
        "basic_model.transmat_ = np.array([[0, 1, 0    , 0    , 0   ], #while in 1, can nonly go to 2\n",
        "                                  [0, 0, 1 , 0, 0   ], # while in 2, can only get to 3\n",
        "                                  [0.992, 0,    0, 0.002, 0.006 ], # while in 3, most likely to get back to first part of codon C1, intron not so unlikely\n",
        "                                  [0.002,0,    0, 0.998, 0    ], #while in intergenic region N, can only go to N or C1 how long is the average intergenic region? here i guess about thousand!\n",
        "                                  [0.0025, 0,    0, 0, 0.9975    ]]) # while in intron, most likely to end up in intron or C1, impossible to end up in intergenic region\n",
        "\n",
        "\n",
        "                         # ABOUT INTRON LENGTH, approx 100 from figure 6  in     http://ribonode.ucsc.edu/Pubs/Spingolaetal99.pdf \n",
        "\n",
        "# The matrix is expected to be of shape (rows=states x cols=emissions), therefore, we should transpose it with .T of we type it out as below wehre columns are states\n",
        "# Here it's transposed from the form used in lecture slides\n",
        "basic_model.emissionprob_ = np.array([[0.26, 0.3, 0.17, 0.27,0.26  ],    # I should base these on codon bias!\n",
        "                                      [0.26, 0.24, 0.32, 0.23, 0.22],  # based on the papers, very random in my opinion! https://www.math.uwaterloo.ca/~aghodsib/courses/w05stat440/w05stat440-notes/feb27.pdf\n",
        "                                      [0.32, 0.2, 0.31, 0.23, 0.22],\n",
        "                                      [0.16, 0.26, 0.20, 0.27,0.3 ]]).T\n",
        "\n",
        "\n",
        "print(basic_model.transmat_)\n",
        "#print(basic_model.init_params)\n",
        "#print(basic_model.params)\n",
        "\n",
        " \n",
        "# Maybe use the AATAAA sequence to get the end of a gene! like after AATA call something a \"end_of_gene_exon\" which is highly likely to terminate, e.g has high probabilities for \n",
        "# TAG, TAG, TGA.  If we find sucha a sequnence, it is likely at end of some gene. However, complement may be in beginning of gene if on reverse strand,\n",
        "# consider also intergenic regions with stuff like promoters."
      ],
      "execution_count": 5,
      "outputs": [
        {
          "output_type": "stream",
          "text": [
            "[[0.     1.     0.     0.     0.    ]\n",
            " [0.     0.     1.     0.     0.    ]\n",
            " [0.992  0.     0.     0.002  0.006 ]\n",
            " [0.002  0.     0.     0.998  0.    ]\n",
            " [0.0025 0.     0.     0.     0.9975]]\n"
          ],
          "name": "stdout"
        }
      ]
    },
    {
      "cell_type": "markdown",
      "metadata": {
        "id": "JMoFwRs04QBR",
        "colab_type": "text"
      },
      "source": [
        "## Define the training set, \n",
        "Here one has to alter the code if wanting to run on many chromosomes or just a few!\n",
        "I tested to run on all 17 and show one such result later on, but most ofthen i only used one or 2 for training due to the time it takes (approx 20000 seconds) to train on all chromosomes!\n",
        "\n",
        "\n"
      ]
    },
    {
      "cell_type": "code",
      "metadata": {
        "id": "uX-uDnF5SUyu",
        "colab_type": "code",
        "colab": {}
      },
      "source": [
        "# Include k chromosomes in training data\n",
        "training_chromosome_idx= [0,2]  # chromosme 0 and 2\n",
        "#training_chromosome_idx = list(range(0,17))  ## TRAINING ON ALL CHROMOSOMES, this has length 12157105 from len(trainig data)\n",
        "\n",
        "trainig_data = np.concatenate(\n",
        "    [np.array(\n",
        "        translate_symbol_sequence_to_numbers(ref_chromosomes[k].seq, emission_labels)\n",
        "        ).reshape(-1, 1)  # makes it a column vector\n",
        "     for k in training_chromosome_idx]\n",
        ")\n",
        "\n",
        "trainig_lengths = [len(ref_chromosomes[k].seq) for k in training_chromosome_idx]\n",
        "\n",
        "# Test on chromosome 1\n",
        "test_data = np.array(\n",
        "    [translate_symbol_sequence_to_numbers(ref_chromosomes[0].seq, emission_labels)]\n",
        ").T"
      ],
      "execution_count": 0,
      "outputs": []
    },
    {
      "cell_type": "markdown",
      "metadata": {
        "id": "jGfZIxIp4a0-",
        "colab_type": "text"
      },
      "source": [
        "## Do the actual training computation!\n"
      ]
    },
    {
      "cell_type": "code",
      "metadata": {
        "id": "iQ0PJvczmdm7",
        "colab_type": "code",
        "outputId": "b582e025-bdeb-46f5-ede0-48676895e48b",
        "colab": {
          "base_uri": "https://localhost:8080/",
          "height": 34
        }
      },
      "source": [
        " #here is the training! doing i\n",
        "\n",
        "t0 = time.time()    # this is just to measure execution time (nothing to do with hmmlearn)\n",
        "np.random.seed(41)  # Make this randomized procedure deterministic (reproducible) 41 is my preferred one\n",
        "\n",
        "basic_model.fit(trainig_data, trainig_lengths)\n",
        "\n",
        "print(f'Training took {time.time() - t0} seconds')\n"
      ],
      "execution_count": 27,
      "outputs": [
        {
          "output_type": "stream",
          "text": [
            "Training took 119.75500249862671 seconds\n"
          ],
          "name": "stdout"
        }
      ]
    },
    {
      "cell_type": "markdown",
      "metadata": {
        "id": "DPrIVnjqxroK",
        "colab_type": "text"
      },
      "source": [
        "## Annotate chromosome\n",
        "\n",
        "Use the trained model to annotate our test chromosome with 1,2,3, I or N (codon positions 1,2,3 , Intron or Noncoding(intergenic)). The `.predict()` function is used."
      ]
    },
    {
      "cell_type": "code",
      "metadata": {
        "id": "CQfL40nSnEyB",
        "colab_type": "code",
        "outputId": "9bd1f708-64d4-4b76-b509-7f5ec74d7844",
        "colab": {
          "base_uri": "https://localhost:8080/",
          "height": 556
        }
      },
      "source": [
        "# some check to study adequacy, differnece to initial values\n",
        "print(basic_model.startprob_, \" startprobabilities\")\n",
        "print(basic_model.transmat_, \" transition matrix/probabilities\")\n",
        "print(basic_model.emissionprob_, \" emission probabilities\" )\n",
        "# Test on chromosome 1\n",
        "test_data = np.array(\n",
        "    [translate_symbol_sequence_to_numbers(ref_chromosomes[12].seq, emission_labels)]\n",
        ").T\n",
        "\n",
        "annotation_numeric = basic_model.predict(test_data)  # numbers == hidden state number\n",
        "annotation = translate_numbers_to_symbol_sequence(annotation_numeric, hidden_states)\n",
        "gene_positions = get_gene_start_and_stop_from_annotation(annotation, \n",
        "                                                         gene_pattern = '[^N]+')  # this works! string of no Noncoding(intergenic) are interpreted as single genes\n",
        "# Preview gene positions\n",
        "#print(gene_positions) # gives indices of where it starts!\n",
        "# also get where there arent genes!\n",
        "#non_gene_positions=get_gene_start_and_stop_from_annotation(annotation, gene_pattern = '[N]+')\n",
        "\n",
        "print(\"The number of annotated genes are \", len(gene_positions)) # this gives the number of genes!\n",
        "\n",
        "aa_sequences = translate_genes(gene_positions, ref_chromosomes[12].seq)  # basd on the results we have got!\n",
        "plot_protein_length_distribution(aa_sequences)\n",
        "print(type(aa_sequences))"
      ],
      "execution_count": 16,
      "outputs": [
        {
          "output_type": "stream",
          "text": [
            "[0. 0. 0. 1. 0.]  startprobabilities\n",
            "[[0.         1.         0.         0.         0.        ]\n",
            " [0.         0.         1.         0.         0.        ]\n",
            " [0.97880878 0.         0.         0.01715424 0.00403698]\n",
            " [0.0221271  0.         0.         0.9778729  0.        ]\n",
            " [0.00287701 0.         0.         0.         0.99712299]]  transition matrix/probabilities\n",
            "[[0.29269868 0.19193098 0.21256524 0.3028051 ]\n",
            " [0.28332057 0.15396073 0.23495203 0.32776667]\n",
            " [0.20923489 0.31522647 0.1533688  0.32216983]\n",
            " [0.42677178 0.16733057 0.22349992 0.18239773]\n",
            " [0.34163532 0.15852935 0.15964229 0.34019304]]  emission probabilities\n",
            "The number of annotated genes are  484\n"
          ],
          "name": "stdout"
        },
        {
          "output_type": "stream",
          "text": [
            "/usr/local/lib/python3.6/dist-packages/Bio/Seq.py:2859: BiopythonWarning: Partial codon, len(sequence) not a multiple of three. Explicitly trim the sequence or add trailing N before translation. This may become an error in future.\n",
            "  BiopythonWarning,\n"
          ],
          "name": "stderr"
        },
        {
          "output_type": "stream",
          "text": [
            "<class 'list'>\n"
          ],
          "name": "stdout"
        },
        {
          "output_type": "display_data",
          "data": {
            "image/png": "[encoded data removed]",
            "text/plain": [
              "<Figure size 432x288 with 1 Axes>"
            ]
          },
          "metadata": {
            "tags": []
          }
        }
      ]
    },
    {
      "cell_type": "markdown",
      "metadata": {
        "id": "EJYIk36G6nTI",
        "colab_type": "text"
      },
      "source": [
        "## Procedure to compare with augustus\n",
        "\n",
        "I have to import the augustus reference annotation file first:\n",
        "\n",
        "I have named it _ref_annot_augustus.aa_ on my laptop, so this is what I upload.\n",
        "\n",
        " \n"
      ]
    },
    {
      "cell_type": "code",
      "metadata": {
        "id": "F4NOQjBnfOeU",
        "colab_type": "code",
        "colab": {
          "resources": {
            "http://localhost:8080/nbextensions/google.colab/files.js": {
              "data": "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",
              "ok": true,
              "headers": [
                [
                  "content-type",
                  "application/javascript"
                ]
              ],
              "status": 200,
              "status_text": ""
            }
          },
          "base_uri": "https://localhost:8080/",
          "height": 74
        },
        "outputId": "94196222-7e37-4e63-c370-de445cc40555"
      },
      "source": [
        "from google.colab import files\n",
        "# use the file ref_annot_augustus.aa\n",
        "uploaded = files.upload()\n",
        "def read_protein_sequences_from_fasta(fasta_filename: str) -> list:\n",
        "     return list(SeqIO.parse(fasta_filename, 'fasta'))\n",
        "\n"
      ],
      "execution_count": 12,
      "outputs": [
        {
          "output_type": "display_data",
          "data": {
            "text/html": [
              "\n",
              "     <input type=\"file\" id=\"files-df1d88c7-6753-4462-9ab2-f163fc58fb26\" name=\"files[]\" multiple disabled />\n",
              "     <output id=\"result-df1d88c7-6753-4462-9ab2-f163fc58fb26\">\n",
              "      Upload widget is only available when the cell has been executed in the\n",
              "      current browser session. Please rerun this cell to enable.\n",
              "      </output>\n",
              "      <script src=\"/nbextensions/google.colab/files.js\"></script> "
            ],
            "text/plain": [
              "<IPython.core.display.HTML object>"
            ]
          },
          "metadata": {
            "tags": []
          }
        },
        {
          "output_type": "stream",
          "text": [
            "Saving ref_annot_augustus.aa to ref_annot_augustus.aa\n"
          ],
          "name": "stdout"
        }
      ]
    },
    {
      "cell_type": "code",
      "metadata": {
        "id": "oV1Hn8yt_QTa",
        "colab_type": "code",
        "outputId": "a57eaa46-910f-46e7-c786-b2ad07695a75",
        "colab": {
          "base_uri": "https://localhost:8080/",
          "height": 298
        }
      },
      "source": [
        "augustus_protein_sequences=read_protein_sequences_from_fasta(\"ref_annot_augustus.aa\")  \n",
        "plot_protein_length_distribution(augustus_protein_sequences)\n",
        "# notice since we here have the entire genome, the absolute counts are much higher than for only ONE chromosome\n",
        "print(\"number of proteins estimated by augustus =\", len(augustus_protein_sequences)) #gives 5465 aka  the number of genes found, a number also backed up on ncbi https://www.ncbi.nlm.nih.gov/pubmed/11967832"
      ],
      "execution_count": 14,
      "outputs": [
        {
          "output_type": "stream",
          "text": [
            "number of proteins estimated by augustus = 5465\n"
          ],
          "name": "stdout"
        },
        {
          "output_type": "display_data",
          "data": {
            "image/png": "[encoded data removed]",
            "text/plain": [
              "<Figure size 432x288 with 1 Axes>"
            ]
          },
          "metadata": {
            "tags": []
          }
        }
      ]
    },
    {
      "cell_type": "markdown",
      "metadata": {
        "id": "rSJ_H3gyFt_2",
        "colab_type": "text"
      },
      "source": [
        "# Comments and conclusions on this exercise\n",
        "\n",
        "## Deciding on the model, choosing initial probabilities and some flaws\n",
        "I created a fairly simple HMM based on three codon positions, introns and intergenic regions. The idea was that it is not allowed to move from codon poistion 1 to anything but codon 2. At codon 3 one can enter intergenic, codon 1, intron or noncoding. from intron one can only enter codon 1 etc.. This model is flawed partly because I only take into account one direction of encoded genes, (although they may be on any of the 2 strands) and also don't care about e.g stop codons being the only ones allowed to end a gene. However, it is slightly more complex than the simple noncoding-coding version and I decided to use it. It can be improved e.g by including start and stop codons and allowing introns to span triplets, e.g allow an intron so start in codon position 1 iff i then ends so that the next base is a codon position 2 base. Nevertheless, I will now try to justify my choices of initial probabilities shown above in the code for my model.\n",
        "\n",
        "To get reasonable __transition probabilities__ apart from the trivial zeros, I searched the web for stuff like average intron lengths et cetera. for example this article shows in figure 6 a distribution of intron lengths centered around 400. This could be approxiamtely achieved by setting the transitions to 0.9975 for intron to intron as the expected length of the intron sequence would then be 1/(1-0.9975)=400. A similar argument was made for the intergenic regions, that I believe should be around 100-1000 bp long.\n",
        "\n",
        "For the __emission probabilities__ I presumed there would be readily available information about codon bias for certain bases, but did not manage to find a reliable source. Therefore, I chose to compared the performance of using that referenced in  https://www.math.uwaterloo.ca/~aghodsib/courses/w05stat440/w05stat440-notes/feb27.pdf on slide 16 with simply making a random assignment of emission probabilities! It turned out that the random assignment was less successful with respect to getting a gene distribution simlar to augustus, so i used the ones in the article, althoug they themsolves do not justify their choices. \n",
        "\n",
        "Regarding the __start_probabilities__ it is obvoius that the start must be noncoding, thus all but one were set to zero! \n",
        "\n",
        "## Training results\n",
        "My main metric for successful training was similarity to augustus distribution of gene lengths. \n",
        "I tried with different numbers of iterations and seeds. \n",
        "Regarding the __seeds__, I did notice that the results are very dependent on this parameter, which indicates the solution is very unstable, in a sense that small changes how to stochastically assign things yields highly varaible results, something undesirable. However, I only checked this for training on fewer chromosomes due to time constrains. Maybe when training on more data the solution is less volatile. Ayways, it is highly indicative that I am not likely to have found any global optima, which is of course a tradeoff when using viterbi or most greedy algorithms, that we simply have to accept.\n",
        "\n",
        "Above was a simple model based on training on only two chromosomes, and the length distribution was deceptively similar to Augustus when looking at a single chromosome to validate the model.\n",
        "However, using the script below to annotate all chromosomes one quickly sees that, although the number of genes is similar to that of Augustus( approx 6000 depending on the seed compared to 5465 with Augustus), there are plenty of unreasonably too long genes.\n"
      ]
    },
    {
      "cell_type": "code",
      "metadata": {
        "id": "T0g0jypRM0ie",
        "colab_type": "code",
        "outputId": "f500f396-3a8e-4e69-b1b0-82e468886009",
        "colab": {
          "base_uri": "https://localhost:8080/",
          "height": 352
        }
      },
      "source": [
        "# this is to study all chromosomes as test data!\n",
        "\n",
        "ref_chromo=''\n",
        "for i in range(0,17): \n",
        "    ref_chromo+=ref_chromosomes[i].seq\n",
        "test_data = np.array(\n",
        "    [translate_symbol_sequence_to_numbers(ref_chromo, emission_labels)]\n",
        ").T\n",
        "\n",
        "annotation_numeric = basic_model.predict(test_data)  # numbers == hidden state number\n",
        "annotation = translate_numbers_to_symbol_sequence(annotation_numeric, hidden_states)\n",
        "gene_positions = get_gene_start_and_stop_from_annotation(annotation, \n",
        "                                                        gene_pattern = '[^N]+')  # this works! string of no Noncoding(intergenic) are interpreted as single genes\n",
        "\n",
        "aa_sequences = translate_genes(gene_positions, ref_chromo)  # basd on the results we have got!\n",
        "plot_protein_length_distribution(aa_sequences)\n",
        "print(\" number of genes =\", len(gene_positions))   # note, I have aproximately the same number of genes as augustus"
      ],
      "execution_count": 18,
      "outputs": [
        {
          "output_type": "stream",
          "text": [
            "/usr/local/lib/python3.6/dist-packages/Bio/Seq.py:2859: BiopythonWarning: Partial codon, len(sequence) not a multiple of three. Explicitly trim the sequence or add trailing N before translation. This may become an error in future.\n",
            "  BiopythonWarning,\n"
          ],
          "name": "stderr"
        },
        {
          "output_type": "stream",
          "text": [
            " number of genes = 6231\n"
          ],
          "name": "stdout"
        },
        {
          "output_type": "display_data",
          "data": {
            "image/png": "[encoded data removed]",
            "text/plain": [
              "<Figure size 432x288 with 1 Axes>"
            ]
          },
          "metadata": {
            "tags": []
          }
        }
      ]
    },
    {
      "cell_type": "markdown",
      "metadata": {
        "id": "EePPWQsIOkLy",
        "colab_type": "text"
      },
      "source": [
        "## Continuing on training results with more models\n",
        "Clearly, training on only 2 chromosomes, regardless of the volatility in choosing different random seeds, is insufficient, but how about a more extensive training?\n",
        "In this repository,  have stored some different resulting models in pickle format, I will begin to examine one where I trained on 14 chromosomes in 10 iterations. \n",
        "First, one has to import it using `files.upload()` and then `with open(\"filename.pkl\", \"rb\") as file: modelname=pickle.load(file)`\n"
      ]
    },
    {
      "cell_type": "code",
      "metadata": {
        "id": "J8EXc34lLCwv",
        "colab_type": "code",
        "outputId": "2124394d-76f3-4f11-a7a1-a077c5348834",
        "colab": {
          "resources": {
            "http://localhost:8080/nbextensions/google.colab/files.js": {
              "data": "Ly8gQ29weXJpZ2h0IDIwMTcgR29vZ2xlIExMQwovLwovLyBMaWNlbnNlZCB1bmRlciB0aGUgQXBhY2hlIExpY2Vuc2UsIFZlcnNpb24gMi4wICh0aGUgIkxpY2Vuc2UiKTsKLy8geW91IG1heSBub3QgdXNlIHRoaXMgZmlsZSBleGNlcHQgaW4gY29tcGxpYW5jZSB3aXRoIHRoZSBMaWNlbnNlLgovLyBZb3UgbWF5IG9idGFpbiBhIGNvcHkgb2YgdGhlIExpY2Vuc2UgYXQKLy8KLy8gICAgICBodHRwOi8vd3d3LmFwYWNoZS5vcmcvbGljZW5zZXMvTElDRU5TRS0yLjAKLy8KLy8gVW5sZXNzIHJlcXVpcmVkIGJ5IGFwcGxpY2FibGUgbGF3IG9yIGFncmVlZCB0byBpbiB3cml0aW5nLCBzb2Z0d2FyZQovLyBkaXN0cmlidXRlZCB1bmRlciB0aGUgTGljZW5zZSBpcyBkaXN0cmlidXRlZCBvbiBhbiAiQVMgSVMiIEJBU0lTLAovLyBXSVRIT1VUIFdBUlJBTlRJRVMgT1IgQ09ORElUSU9OUyBPRiBBTlkgS0lORCwgZWl0aGVyIGV4cHJlc3Mgb3IgaW1wbGllZC4KLy8gU2VlIHRoZSBMaWNlbnNlIGZvciB0aGUgc3BlY2lmaWMgbGFuZ3VhZ2UgZ292ZXJuaW5nIHBlcm1pc3Npb25zIGFuZAovLyBsaW1pdGF0aW9ucyB1bmRlciB0aGUgTGljZW5zZS4KCi8qKgogKiBAZmlsZW92ZXJ2aWV3IEhlbHBlcnMgZm9yIGdvb2dsZS5jb2xhYiBQeXRob24gbW9kdWxlLgogKi8KKGZ1bmN0aW9uKHNjb3BlKSB7CmZ1bmN0aW9uIHNwYW4odGV4dCwgc3R5bGVBdHRyaWJ1dGVzID0ge30pIHsKICBjb25zdCBlbGVtZW50ID0gZG9jdW1lbnQuY3JlYXRlRWxlbWVudCgnc3BhbicpOwogIGVsZW1lbnQudGV4dENvbnRlbnQgPSB0ZXh0OwogIGZvciAoY29uc3Qga2V5IG9mIE9iamVjdC5rZXlzKHN0eWxlQXR0cmlidXRlcykpIHsKICAgIGVsZW1lbnQuc3R5bGVba2V5XSA9IHN0eWxlQXR0cmlidXRlc1trZXldOwogIH0KICByZXR1cm4gZWxlbWVudDsKfQoKLy8gTWF4IG51bWJlciBvZiBieXRlcyB3aGljaCB3aWxsIGJlIHVwbG9hZGVkIGF0IGEgdGltZS4KY29uc3QgTUFYX1BBWUxPQURfU0laRSA9IDEwMCAqIDEwMjQ7Ci8vIE1heCBhbW91bnQgb2YgdGltZSB0byBibG9jayB3YWl0aW5nIGZvciB0aGUgdXNlci4KY29uc3QgRklMRV9DSEFOR0VfVElNRU9VVF9NUyA9IDMwICogMTAwMDsKCmZ1bmN0aW9uIF91cGxvYWRGaWxlcyhpbnB1dElkLCBvdXRwdXRJZCkgewogIGNvbnN0IHN0ZXBzID0gdXBsb2FkRmlsZXNTdGVwKGlucHV0SWQsIG91dHB1dElkKTsKICBjb25zdCBvdXRwdXRFbGVtZW50ID0gZG9jdW1lbnQuZ2V0RWxlbWVudEJ5SWQob3V0cHV0SWQpOwogIC8vIENhY2hlIHN0ZXBzIG9uIHRoZSBvdXRwdXRFbGVtZW50IHRvIG1ha2UgaXQgYXZhaWxhYmxlIGZvciB0aGUgbmV4dCBjYWxsCiAgLy8gdG8gdXBsb2FkRmlsZXNDb250aW51ZSBmcm9tIFB5dGhvbi4KICBvdXRwdXRFbGVtZW50LnN0ZXBzID0gc3RlcHM7CgogIHJldHVybiBfdXBsb2FkRmlsZXNDb250aW51ZShvdXRwdXRJZCk7Cn0KCi8vIFRoaXMgaXMgcm91Z2hseSBhbiBhc3luYyBnZW5lcmF0b3IgKG5vdCBzdXBwb3J0ZWQgaW4gdGhlIGJyb3dzZXIgeWV0KSwKLy8gd2hlcmUgdGhlcmUgYXJlIG11bHRpcGxlIGFzeW5jaHJvbm91cyBzdGVwcyBhbmQgdGhlIFB5dGhvbiBzaWRlIGlzIGdvaW5nCi8vIHRvIHBvbGwgZm9yIGNvbXBsZXRpb24gb2YgZWFjaCBzdGVwLgovLyBUaGlzIHVzZXMgYSBQcm9taXNlIHRvIGJsb2NrIHRoZSBweXRob24gc2lkZSBvbiBjb21wbGV0aW9uIG9mIGVhY2ggc3RlcCwKLy8gdGhlbiBwYXNzZXMgdGhlIHJlc3VsdCBvZiB0aGUgcHJldmlvdXMgc3RlcCBhcyB0aGUgaW5wdXQgdG8gdGhlIG5leHQgc3RlcC4KZnVuY3Rpb24gX3VwbG9hZEZpbGVzQ29udGludWUob3V0cHV0SWQpIHsKICBjb25zdCBvdXRwdXRFbGVtZW50ID0gZG9jdW1lbnQuZ2V0RWxlbWVudEJ5SWQob3V0cHV0SWQpOwogIGNvbnN0IHN0ZXBzID0gb3V0cHV0RWxlbWVudC5zdGVwczsKCiAgY29uc3QgbmV4dCA9IHN0ZXBzLm5leHQob3V0cHV0RWxlbWVudC5sYXN0UHJvbWlzZVZhbHVlKTsKICByZXR1cm4gUHJvbWlzZS5yZXNvbHZlKG5leHQudmFsdWUucHJvbWlzZSkudGhlbigodmFsdWUpID0+IHsKICAgIC8vIENhY2hlIHRoZSBsYXN0IHByb21pc2UgdmFsdWUgdG8gbWFrZSBpdCBhdmFpbGFibGUgdG8gdGhlIG5leHQKICAgIC8vIHN0ZXAgb2YgdGhlIGdlbmVyYXRvci4KICAgIG91dHB1dEVsZW1lbnQubGFzdFByb21pc2VWYWx1ZSA9IHZhbHVlOwogICAgcmV0dXJuIG5leHQudmFsdWUucmVzcG9uc2U7CiAgfSk7Cn0KCi8qKgogKiBHZW5lcmF0b3IgZnVuY3Rpb24gd2hpY2ggaXMgY2FsbGVkIGJldHdlZW4gZWFjaCBhc3luYyBzdGVwIG9mIHRoZSB1cGxvYWQKICogcHJvY2Vzcy4KICogQHBhcmFtIHtzdHJpbmd9IGlucHV0SWQgRWxlbWVudCBJRCBvZiB0aGUgaW5wdXQgZmlsZSBwaWNrZXIgZWxlbWVudC4KICogQHBhcmFtIHtzdHJpbmd9IG91dHB1dElkIEVsZW1lbnQgSUQgb2YgdGhlIG91dHB1dCBkaXNwbGF5LgogKiBAcmV0dXJuIHshSXRlcmFibGU8IU9iamVjdD59IEl0ZXJhYmxlIG9mIG5leHQgc3RlcHMuCiAqLwpmdW5jdGlvbiogdXBsb2FkRmlsZXNTdGVwKGlucHV0SWQsIG91dHB1dElkKSB7CiAgY29uc3QgaW5wdXRFbGVtZW50ID0gZG9jdW1lbnQuZ2V0RWxlbWVudEJ5SWQoaW5wdXRJZCk7CiAgaW5wdXRFbGVtZW50LmRpc2FibGVkID0gZmFsc2U7CgogIGNvbnN0IG91dHB1dEVsZW1lbnQgPSBkb2N1bWVudC5nZXRFbGVtZW50QnlJZChvdXRwdXRJZCk7CiAgb3V0cHV0RWxlbWVudC5pbm5lckhUTUwgPSAnJzsKCiAgY29uc3QgcGlja2VkUHJvbWlzZSA9IG5ldyBQcm9taXNlKChyZXNvbHZlKSA9PiB7CiAgICBpbnB1dEVsZW1lbnQuYWRkRXZlbnRMaXN0ZW5lcignY2hhbmdlJywgKGUpID0+IHsKICAgICAgcmVzb2x2ZShlLnRhcmdldC5maWxlcyk7CiAgICB9KTsKICB9KTsKCiAgY29uc3QgY2FuY2VsID0gZG9jdW1lbnQuY3JlYXRlRWxlbWVudCgnYnV0dG9uJyk7CiAgaW5wdXRFbGVtZW50LnBhcmVudEVsZW1lbnQuYXBwZW5kQ2hpbGQoY2FuY2VsKTsKICBjYW5jZWwudGV4dENvbnRlbnQgPSAnQ2FuY2VsIHVwbG9hZCc7CiAgY29uc3QgY2FuY2VsUHJvbWlzZSA9IG5ldyBQcm9taXNlKChyZXNvbHZlKSA9PiB7CiAgICBjYW5jZWwub25jbGljayA9ICgpID0+IHsKICAgICAgcmVzb2x2ZShudWxsKTsKICAgIH07CiAgfSk7CgogIC8vIENhbmNlbCB1cGxvYWQgaWYgdXNlciBoYXNuJ3QgcGlja2VkIGFueXRoaW5nIGluIHRpbWVvdXQuCiAgY29uc3QgdGltZW91dFByb21pc2UgPSBuZXcgUHJvbWlzZSgocmVzb2x2ZSkgPT4gewogICAgc2V0VGltZW91dCgoKSA9PiB7CiAgICAgIHJlc29sdmUobnVsbCk7CiAgICB9LCBGSUxFX0NIQU5HRV9USU1FT1VUX01TKTsKICB9KTsKCiAgLy8gV2FpdCBmb3IgdGhlIHVzZXIgdG8gcGljayB0aGUgZmlsZXMuCiAgY29uc3QgZmlsZXMgPSB5aWVsZCB7CiAgICBwcm9taXNlOiBQcm9taXNlLnJhY2UoW3BpY2tlZFByb21pc2UsIHRpbWVvdXRQcm9taXNlLCBjYW5jZWxQcm9taXNlXSksCiAgICByZXNwb25zZTogewogICAgICBhY3Rpb246ICdzdGFydGluZycsCiAgICB9CiAgfTsKCiAgaWYgKCFmaWxlcykgewogICAgcmV0dXJuIHsKICAgICAgcmVzcG9uc2U6IHsKICAgICAgICBhY3Rpb246ICdjb21wbGV0ZScsCiAgICAgIH0KICAgIH07CiAgfQoKICBjYW5jZWwucmVtb3ZlKCk7CgogIC8vIERpc2FibGUgdGhlIGlucHV0IGVsZW1lbnQgc2luY2UgZnVydGhlciBwaWNrcyBhcmUgbm90IGFsbG93ZWQuCiAgaW5wdXRFbGVtZW50LmRpc2FibGVkID0gdHJ1ZTsKCiAgZm9yIChjb25zdCBmaWxlIG9mIGZpbGVzKSB7CiAgICBjb25zdCBsaSA9IGRvY3VtZW50LmNyZWF0ZUVsZW1lbnQoJ2xpJyk7CiAgICBsaS5hcHBlbmQoc3BhbihmaWxlLm5hbWUsIHtmb250V2VpZ2h0OiAnYm9sZCd9KSk7CiAgICBsaS5hcHBlbmQoc3BhbigKICAgICAgICBgKCR7ZmlsZS50eXBlIHx8ICduL2EnfSkgLSAke2ZpbGUuc2l6ZX0gYnl0ZXMsIGAgKwogICAgICAgIGBsYXN0IG1vZGlmaWVkOiAkewogICAgICAgICAgICBmaWxlLmxhc3RNb2RpZmllZERhdGUgPyBmaWxlLmxhc3RNb2RpZmllZERhdGUudG9Mb2NhbGVEYXRlU3RyaW5nKCkgOgogICAgICAgICAgICAgICAgICAgICAgICAgICAgICAgICAgICAnbi9hJ30gLSBgKSk7CiAgICBjb25zdCBwZXJjZW50ID0gc3BhbignMCUgZG9uZScpOwogICAgbGkuYXBwZW5kQ2hpbGQocGVyY2VudCk7CgogICAgb3V0cHV0RWxlbWVudC5hcHBlbmRDaGlsZChsaSk7CgogICAgY29uc3QgZmlsZURhdGFQcm9taXNlID0gbmV3IFByb21pc2UoKHJlc29sdmUpID0+IHsKICAgICAgY29uc3QgcmVhZGVyID0gbmV3IEZpbGVSZWFkZXIoKTsKICAgICAgcmVhZGVyLm9ubG9hZCA9IChlKSA9PiB7CiAgICAgICAgcmVzb2x2ZShlLnRhcmdldC5yZXN1bHQpOwogICAgICB9OwogICAgICByZWFkZXIucmVhZEFzQXJyYXlCdWZmZXIoZmlsZSk7CiAgICB9KTsKICAgIC8vIFdhaXQgZm9yIHRoZSBkYXRhIHRvIGJlIHJlYWR5LgogICAgbGV0IGZpbGVEYXRhID0geWllbGQgewogICAgICBwcm9taXNlOiBmaWxlRGF0YVByb21pc2UsCiAgICAgIHJlc3BvbnNlOiB7CiAgICAgICAgYWN0aW9uOiAnY29udGludWUnLAogICAgICB9CiAgICB9OwoKICAgIC8vIFVzZSBhIGNodW5rZWQgc2VuZGluZyB0byBhdm9pZCBtZXNzYWdlIHNpemUgbGltaXRzLiBTZWUgYi82MjExNTY2MC4KICAgIGxldCBwb3NpdGlvbiA9IDA7CiAgICB3aGlsZSAocG9zaXRpb24gPCBmaWxlRGF0YS5ieXRlTGVuZ3RoKSB7CiAgICAgIGNvbnN0IGxlbmd0aCA9IE1hdGgubWluKGZpbGVEYXRhLmJ5dGVMZW5ndGggLSBwb3NpdGlvbiwgTUFYX1BBWUxPQURfU0laRSk7CiAgICAgIGNvbnN0IGNodW5rID0gbmV3IFVpbnQ4QXJyYXkoZmlsZURhdGEsIHBvc2l0aW9uLCBsZW5ndGgpOwogICAgICBwb3NpdGlvbiArPSBsZW5ndGg7CgogICAgICBjb25zdCBiYXNlNjQgPSBidG9hKFN0cmluZy5mcm9tQ2hhckNvZGUuYXBwbHkobnVsbCwgY2h1bmspKTsKICAgICAgeWllbGQgewogICAgICAgIHJlc3BvbnNlOiB7CiAgICAgICAgICBhY3Rpb246ICdhcHBlbmQnLAogICAgICAgICAgZmlsZTogZmlsZS5uYW1lLAogICAgICAgICAgZGF0YTogYmFzZTY0LAogICAgICAgIH0sCiAgICAgIH07CiAgICAgIHBlcmNlbnQudGV4dENvbnRlbnQgPQogICAgICAgICAgYCR7TWF0aC5yb3VuZCgocG9zaXRpb24gLyBmaWxlRGF0YS5ieXRlTGVuZ3RoKSAqIDEwMCl9JSBkb25lYDsKICAgIH0KICB9CgogIC8vIEFsbCBkb25lLgogIHlpZWxkIHsKICAgIHJlc3BvbnNlOiB7CiAgICAgIGFjdGlvbjogJ2NvbXBsZXRlJywKICAgIH0KICB9Owp9CgpzY29wZS5nb29nbGUgPSBzY29wZS5nb29nbGUgfHwge307CnNjb3BlLmdvb2dsZS5jb2xhYiA9IHNjb3BlLmdvb2dsZS5jb2xhYiB8fCB7fTsKc2NvcGUuZ29vZ2xlLmNvbGFiLl9maWxlcyA9IHsKICBfdXBsb2FkRmlsZXMsCiAgX3VwbG9hZEZpbGVzQ29udGludWUsCn07Cn0pKHNlbGYpOwo=",
              "ok": true,
              "headers": [
                [
                  "content-type",
                  "application/javascript"
                ]
              ],
              "status": 200,
              "status_text": ""
            }
          },
          "base_uri": "https://localhost:8080/",
          "height": 111
        }
      },
      "source": [
        "files.upload()"
      ],
      "execution_count": 25,
      "outputs": [
        {
          "output_type": "display_data",
          "data": {
            "text/html": [
              "\n",
              "     <input type=\"file\" id=\"files-4f224583-1b69-41a7-8208-e1b82367b2ce\" name=\"files[]\" multiple disabled />\n",
              "     <output id=\"result-4f224583-1b69-41a7-8208-e1b82367b2ce\">\n",
              "      Upload widget is only available when the cell has been executed in the\n",
              "      current browser session. Please rerun this cell to enable.\n",
              "      </output>\n",
              "      <script src=\"/nbextensions/google.colab/files.js\"></script> "
            ],
            "text/plain": [
              "<IPython.core.display.HTML object>"
            ]
          },
          "metadata": {
            "tags": []
          }
        },
        {
          "output_type": "stream",
          "text": [
            "Saving iter_30_17_chromosomes.pkl to iter_30_17_chromosomes.pkl\n"
          ],
          "name": "stdout"
        },
        {
          "output_type": "execute_result",
          "data": {
            "text/plain": [
              "{'iter_30_17_chromosomes.pkl': b'\\x80\\x03chmmlearn.hmm\\nMultinomialHMM\\nq\\x00)\\x81q\\x01}q\\x02(X\\x0c\\x00\\x00\\x00n_componentsq\\x03K\\x05X\\x06\\x00\\x00\\x00paramsq\\x04X\\x03\\x00\\x00\\x00steq\\x05X\\x0b\\x00\\x00\\x00init_paramsq\\x06X\\x00\\x00\\x00\\x00q\\x07X\\x0f\\x00\\x00\\x00startprob_priorq\\x08G?\\xf0\\x00\\x00\\x00\\x00\\x00\\x00X\\x0e\\x00\\x00\\x00transmat_priorq\\tG?\\xf0\\x00\\x00\\x00\\x00\\x00\\x00X\\t\\x00\\x00\\x00algorithmq\\nX\\x07\\x00\\x00\\x00viterbiq\\x0bX\\x0c\\x00\\x00\\x00random_stateq\\x0ccnumpy.random._pickle\\n__randomstate_ctor\\nq\\rX\\x07\\x00\\x00\\x00MT19937q\\x0e\\x85q\\x0fRq\\x10}q\\x11(X\\r\\x00\\x00\\x00bit_generatorq\\x12h\\x0eX\\x05\\x00\\x00\\x00stateq\\x13}q\\x14(X\\x03\\x00\\x00\\x00keyq\\x15cnumpy.core.multiarray\\n_reconstruct\\nq\\x16cnumpy\\nndarray\\nq\\x17K\\x00\\x85q\\x18C\\x01bq\\x19\\x87q\\x1aRq\\x1b(K\\x01Mp\\x02\\x85q\\x1ccnumpy\\ndtype\\nq\\x1dX\\x02\\x00\\x00\\x00u4q\\x1eK\\x00K\\x01\\x87q\\x1fRq (K\\x03X\\x01\\x00\\x00\\x00<q!NNNJ\\xff\\xff\\xff\\xffJ\\xff\\xff\\xff\\xffK\\x00tq\"b\\x89B\\xc0\\t\\x00\\x00)\\x00\\x00\\x00.\\x015M\\x8d\\x9e\\xd4\\xafn\\x15\\xa6\\xd1\\x05\\xc9\\xf8)\\xfe\\xfb\\xddM\\xa1\\xe2h\\xfc\\xf1\\x1b\\x18A\\xb8u\\x06\\x99k\\xfc\\xa2\\x84w\\xc6@\\xc0\\xcf_\\xee\\xe0\\x88\\xf7\\xe3\\xfd\\xe4\\x0c7\\x93\\xcc,\\xe9\\xec\\xbat\\xa2\\xce\\r\\x0e\\x9e\\xb3\\xfc\\x92J)~\\xd9\\xf8\\x87\\xff)\\xf5\\x13\\xaf\\x08,\\xcd\\xf1w\\xb7O\\xc6\\xc1!*5in\\x84\\xcb\\xf1^j\\xcb~`\\x9bg\\x96j4\\xbeu[Iw\\xabQ\\xafFB-\\xecW\\x125R\\rB\\x1a\\x9e\\x0b\\x17\\x1f\\x90\\xae\\xe7\\xd6\\xecc\\xfc\\x7f\\xc4\\x03\\xf2-k\\xee\\x8c\\xb1Up\\x81\\x01\\x82 \\x14\\xfc\\xba\\x91#(\\x91\\'\\xb4\\xe4\\xbc\\xc2\\xdf\\xa5s\\x19\\xa3\\x85\\xc7mC\\xb8\\xa9\\xf7\\x01\\xd2=\\xa0\\xf5\\xa8\\x08N\\x88{\\r\\xf5\\x84\\xd0\\x0f\\xd9\\x91\\x1e\\xd335\\x13\\x9c\\x875b\\xfbG\\xc1\\xfe\\xe2\\x08\\xa4\\xcb\\xdc\\x8c\\x9bn7rJ\\xb5`\\x96\\xea\\x82\\xb9\\x9c\\xc0;\\x1a\\xc5y\\xeag\\x8e\\xee\\x07\\x7f\\xa6\\xa5\\xb46\\xba0u\\xd1::^\\xbbV\\xf0\\xdc\\x90c\\xc5\\x13f\\xeaQ\\x1c\\x98\\xc9xYH*\\xafg\\x1a\\xd5\\x95\\xcbi\\xe8\\x90L9\\xcdS\\x19k\\xc2;j)\\xd1e2\\xab\\x87\\x17%P\\'\\xfe\\xe2\\xa4\\xe3\\x11\\x93\\x16\\xda\\x89\\xcd\\xdd\\xe9\\x83\\xcb\\xd1\\x9fEI\\x02\\t\\x8f\\x83\\x18\\xdc?\\xb2\\xc8K\\x8a\\x9ae\\x83)\\x00\\xca\\xd2\\xdf\\xc5\\xea\\xc8&\\x8f\\xcfk\\xf1\\xc92\\x8c\\x82\\xcb\\xd9\\xc1\\t\\x12\\xbcF5\\xacb[\\x04e\\x7f\\xdb\\xe1\\xa4h\\\\\\xc5\\xe0\\xaaq,\\xdf\\xc1V\\x8b\\xf3:K\\xff\\x00\\xaf+\\xc9\\x01[\\xf1\\xd7\\x81\\x14u+a\\'\\x8a\\xc2\\xca\\x15\\xd4\\x9a\\xe0\\xa4\\xd1\\x9cS\\xc3>A\\xa7\\xb0\\x11\\xd9\\x89L\\xb63\\xfc\\xa6k\\xba\\x173\\x9f\\xcf\\x0c\\x18$\\x01\\x83\\x19\\x9e\\xb7Gd&\\x89\\xe8\\njr-\\x87u\\xcb\\xff\\xa7a\\xf5\\x0e\\xf0\\x19B\\xe6\\xc4\\xb2\\xfe\\xed\\xae\\xe1\\xab\\x01\\x98\\x01L\\xdaTs\\xfc\\xcb`n\\x9b\\xb1Y@\\xbaI\\x83\\x80\\xce\\x910\\xf7\\xf8\\x88\\xd6\\xbc\\xcc\\xf0\\xafou\\xc4\\x08E\\xbcc\\xa2~G\\x0c\\x8bh\\x90}\\xb2O\\xb4\\xb8HD\\xe1~_\\xb8\\xcd\\x7f\\xd8G>\\xa2S\\x1f\\x08@\\x0e\\xbd\\xcbt0\\x14\\x87G\\xed\\x97\\x9b$J\\xb3\\xa8\\xce`\\xc0\\xd0\\xad~\\xac\\xa5\\x91 di\\xd3\\xe2,\\xb5\\xa1\\xf6\\x15\\xa3\\x0b\\xa0\\x9e\\xa7\\x7f\\x88\\x18\\x9dS\\x90\\xcf\\xe5\\xc5\\xf3\\n\\xd6\\xa1m\\xe6U\\xb2Z\\xb3\\x83\\xa5\\x050\\xc1\\xac\\xeb\\xb1\\x84\\xf1:h\\x13#\\xce\\xcb\\xec\\'\\xc5}s\\xef\\xffL\\xff\\xb8n\\xf8\\xee\\xb7&p\\x00<\\xde\\xf8\\xb8\\x0eQ\\xd7;\\x9b\\xf6?\\x0f\\x0fq\\x122\\xcb<\\xb7ct\\xb0\\x074:\\xfd3\\xaa\\xe8)\\xbfqE7\\xfc\\x17~\\xa8\\xd8e\\x88\\xc4\\ncO\\xb5\\xccZ\\x89\\x19!\\xff[ \\xabQ\\xbb\\xe5\\xef\\x1f2\\xfd\\xc4\\xe4O\\'\\xfd%N5{b\\x14\\xa0h\\x9b\\x0c\\xce\\xe3\\x94\\x12n\\xd7\\xaf/\\xc9R\\xd3\\xb4#\\tB\\xac:=\\xdf\\x8b\\xef\\'BY\\x9fK\\xe6\\x9f\\rJ\\xff`\\xe2\\x81\\xc9\\xe1\\xff\\xff\\x12y#Q\\xf6\\xe7\\xe2\\x11\\x11\\x94\\xfc\\xd2^\\x0b\\xf3.B\\xf1\\xbc\\x16\\xa8\\xcc\\x06i\\x17L\\x15)nk\\x0f\\xeagu\\xe2\\xab\\xb0LP\\xd1\\xadrE\\xd0\\xe3\\xf2E6\\xbbu\\xfb\\xab9\\x15\\xb1p1\\xda\\x18\\xf4q\\x9a,\\t\\x8a\\x96M\\xee\\xbdzR\\x12\\xd7\\x9a?\\xe2|\\xadnX\\xc1|\\xb0Ls\\'\\xa6\\x91<g\\xb9\\xcb\\x91*\\x11\\xe4(^.\\xc2&D\\xfd\\xf4\\x93\\xe7\\xdfC\\x90M\\x84v\\xb3\\x93\\x12`\\xf4\\x89\\x0f\\xb3\\xca\\xd4#s\\xc4R\\x124\\r\\xeeh\\xbf\\x93o\\x83ho@WE&\\xea?\\x12\\x07\\xbf\\xad*Z\\x95\\xb8\\xa3\\xfaC\\x17+\\x1eh-\\xd4\\xeae\\x99L-\\xbc\\xc3\\n(\\xa6~7\\xb0H\\x9f\\xca\\xe2l\\xeb/\\x0b\\xd2&n\\x91#\\xdb\\xe5\\xb5\\xd6s\\xd9\\xc7H\\xc4\\xe8\\x83\\xa0\\xd2\\x9e\\xcfY\\xbfte\\xcd\\x0b\\xad\\x1b\\x80I\\xc6\\xf7\\r\\xe0\\xa4.~\\xc1\\xcf\\xc7P\\x98\\xce\\x89fE\\x99&\\xddY\\xe7\\x92\\x0f\\xfc\\xe4\\xf8\\xfc\\xfb\\x14\\xd3R\\x0e\\xd6\\xfb./a\\xe2(\\xed\\x9e\\xc3\\xf5\\xfa\\xe62\\xf0\\x1d\\xb4+K\\xc7*/\\x0eA\\xef\\x9f\\x03\\xb0z\\xee~\\xbdRN\\xfa\\xd5\\xf0?\\xe1\\xafv\\xbd\\xb4\\xc6&]\\xe5\\xa82\\x04R\\x1d\\xb9j\\xf8\\xaa\\xc7/=4\\x84Y&\\x9d\\xe0\\x08\\xb4\\x80-t\\xf6\\xb5\\x8f\\xfe\\xb1\\xaf\\xa6\\xe3M\\x04\\x84\\xa7\\x18\\xa3\\xe5\\xce\\n\\xa7+AN\\xcc\\xd1\\x1d\\xd6#\\x7f\\x9d%\\xb6\\\\\\x08\\x8a\\x08X\\x89rG*\\xd2\\x1f\\xc9;\\xdc$l\\xf1\\xed\\xfb\\xe1\\x8acY\\x94\\xb9\\r@v\\xaa\\xe2\\xa4\\xee\\xc0\\xde\\xf8\\xe2\\x03?\\xbb\\x16Dx\\xad)\\xea\\xd7\\xa8@\\xce\\xf3\\x96\\xe9\\xf9\\xe5\\xa1\\x17V\\xfd\\xc0Lm\\x83\\x181\\x1c0\\xfc\\x10(\\xf8\\x01\\xca\\x14\\xed\\xc2\\xad\\xccPb\\xa2e \\xaa\\xcb^_?P\\x9cx\\xa3B\\x13\\x9cUN=6\\xca\\x94\\xff\\x1e\\x88\\xfa\\x91\\x16-\\xd9\\xc0\\n\\xdc\\x05\\xe7\\xfe\\xd0\\\\\\xe6\\xa7\\'wL\\xde\\xd0F\\x8b\\xeayG\\x9dcc\\x13\\x1dS\\xd0\\xcb\\x03\\xda}\\xd3.\\x03Q\\xc0\\xf0V\\xe4LEG4\\x954\\x1f\\xb6\\xbe\\x807\\x08W\\x18\\xf0x\\xacv\\xa5\\xeaL(\\xf8`\\xa5\\xc8c6\\xa5\\xe9yb<%\\xcbv\\'\\xd2\\xf3\\x97Ny\\x1e4\\x02\\xf8\\xc7-\\xa4\\xde\\xb0\\xea5\\xd3\\x96P\\\\\\x18\\xe4?D\\x1c`\\xf5\\xe6{\\x84\\x18$\\xc8\\x18\\xef\\xdfYl&\\x9f*t\\xa2\\xb4\\x0c=YAf\\x0c<\\xb1\\xbah\\x0e\\x96\\xdf\\xc9\\xc1f\\xdes\\x8elD\\x0fOO\\x83\\xf4? \\xfa\\x93\\xaa\\xe6\\x89\\xa3Kb\\xf5M\\x13\\x1b\\xf7\\xdf\\x08\\x81\\xf8y\\r$(\\xd8^e~:8\\xf5\\xa3\\xf9\\xe6+\\xa2\\xb9-\\x85t\\xdd\\xc0\\x96\\xe3\\x86\\xd5\\x86\\x1b\\xa1\\x93\\x13\\xfe\\x033\\x86\\xc4o&\\xabw\\x10e\\xae\\x83\\x1c\\xe1\\xb2@I\\x98>\\x9c\\'\\x082\\xe9\\x1d\\xae\\xff\\xb0\\x08\\x1a\\x97\\x99\\xb1\\xca\\xe0\"}9\\xfcf\\x08\\x8c\\x9e\\xd6\\xd4x\\xe8l\\xf6d\\x0f\\x00\\x06\\xa9g\\xca\\xe8\\xec\\xef\\xb3i\\x8a\\x9a<m\\x02\\x9b\\xdeH\\x1d\\x995|\\x8f\\xe2\\xb8\\xe8\\x8eYh\\xd3\\xfb8t\\x11U\\xe7`\\x94)y\\xb3tv\\x08\\x0e\\xd7\\x14p[\\xe1\\xb8\\x94\\x8e\\x8a\\xf8R\\xdd2\\x1e\\xdc\\t\\xe14\\r\\x01\\x9b\\x89uu(=@:\\x0b\\xf3\\x1dYy{\\xa8_\\x95%B\\x8f=U\\xf3\\xb65e]\\xae!\\xae\\xaeXVl\\x96\\xff<j\\xa7OvxNEl\\xf8\\x90\\x83\\xb8\\xe5\\r0\\xe8\\xf4\\xba<_@D\\x949\\x08\\xb7\\xb2\\xff)x$\\xaeMd\\x1f\\x83\\xda\\x83\\xf8@+\\xc7\\x8f\\xf7\\xb3d\\x8f\\xaa]\\xb7+\\xc0\\x14\\x9e\\xb8\\xc2$\\x06$L\\xbd\\x0b\\xc1Oj4\\xb3\\xc1\\xe6,.8\\x98\\x04\\xb6\\xc9`7_\\xfc\\x1b\\xf1\\xde\\xcd\\x9b\\xd0\\xc4~\\xae\\x8b\\xb2\\xfb\\x19}4\\x1a\\xd8\\xa8\\xe4>\\xc3\\xc2\\xbaq\\x02\\x800W\\xda\\x8bS*,\\x80\\x8f\\x0cI\\x88<jd\\xb0\\x12\\x1a+d\\x1cvzP\\x0f Q\\xc0[\\x12|:\\x87\\xf2B]\\x7ff\\xdd\\xc8\\x8e\\xcc\\x95\\xd8D*l\\xb1B%6\\x92\\xe5\\xf3\\x0b\\xae\\xc9\\xda\\x8e/\\xf4\\xe3\\xf0\\xfd\\x1b!\\xca\\x89\\x86q$\\xfc#\\xf8\\xc31z\\xa2\\x10\\x0f\\xcee\\xd9\\xc1\\x8e\\xe0\\xda\\x16\\xb4\\x97h2\\xb3/_\\xf2 \\x02\\xe3\\x1dQ\\xf8\\x92\\xd5\\x0c\\xdc\\x1dL\\xd4\\xc7\\xe5\\x82\"_s[\\x84Ec0\\xca\\x12\\xfa\\xcd\\x04\\xfc5g\\xb1\\x1cN\\x9cX\\x1f\\x12\\xc5\\xa1\\x13k\\xb2\\n\\xfc5\\xffIBlD%\\xb0&\\x1eWM\\x8a\\x06\\x12\\x14Ui?\\x18\\xd4\\xa6\\xd26Q\\xb8\\xd2\\xf1\\x0fn\\x02Uy\\x95\\xc4\\x8a[:\\x19\\xa5\\xbc~>\\xfcn\\x98s\\xa1i\\xbe],)\\xbdDZ\\x96\\xf4\\xcd\\x9e\\x92aG\\xd4g]j7z\\xc0:\\x0f\\xbe\\'\\xb0\\r\\xb8F\\xa4!\\xc8q\\xe9\\x94y\\x85\\x88\\x85\\x16\\xf0\\xa9\\x14\\'\\x11\\x80\\x99\\x18\\x8b\\x1e$i\\x15\\xabO\\xa1[\\xe8i\\xec_\\xc4{R\\x8e\\xf6\\xcc15\\xe7\\x84\\x0f\\x06\\xfd\\x0f\\x90\\xc8\\x11?W\\xd1\\xf6\\x85\\xaa\\x99!o\\xa2{~\\xf9m>\\x95\\xdeYvD\\x06\\x9eO\\x1ah\\x96B\\x89\\x87\\xca\\xffUU6:m)m<\\xe6\\xae7`\\t\\xa2\\xe2\\xfe\\xd9Ig~ \\xbc,J\\xee\\xe3:E5\\xd6\\xbf\\xe39k\\xcc\\'i\\xd0\\x96\\x13Zl\\xe7n\\xd5t\\xc7\\xf4]\\xa0\\x11\\xca\\x06\\x95X2O\\x03\\xdd\\xdf\\xee\\xfa\\t\\xc0t\\xd6\\xb3\\xf3\\xe7M\\xfat\\xb3\\xd3\\xbaC0\\xc9\\xdd\\x95\\xb1$\\x8aih\\xab\\xf2\\xd10\\xe6f\\x86\\xb4\\x95\\'{d\\xef\\xae9p\\xf8\\xdc\\x1b-\\xf61JZ\\xad\\xa7M\\xe6\\x19j\\x80\\xf4<\\xf3V\\xaa+I\\x80J#\\xd3\\xd6\\xd0\\xfe-\\x82\\xde\\xecA\\x89\\xd10\\xc8\\xb8E0\\xe1b\\xdbp\\x88\\x87\\xa5\\xa8\\'\\x1f\"\\xd8h\\xbc\\xaaf\\xe6\\xd9\\xb8\\xf3u_\\t+\\x06\\x7f5D\\xae\\xf7\\\\\\xd1\\xbb\\x9f%\\xea\\xb6\\xe9\\x0e\\xb9\\x82\\x87\\xcdo\\xee\\x8a\\xbd\\xe5\\x90\\xcc\\tTO\\xb0k\\r\\x93\\xf3\\x1d\\xf4\\x08\\t\\x87\\xd6\\xf6C\\xf5Z\\xdaN\\\\x~c\\xcaC\\xdau1d\\xf1\\xcb\\xd5K9z\\xc0`\\xfbdBw;o\\x8d\\xea\\x1d<\\xc0\\x00.\\xa0\\xaa \\xdc\\xadi\\xcc\\xea)\\x8f\\xd8\\xe5\\x13\\x8e\\xf9{\\x1a*uX\\x86\\xed\\xa2\\xb0kB\\x95T\\x0817\\rz\\x18x\\x0f\\xfc\\xd0\\xd7\\x1df\\x9f\\x00\\xfcT\\x81\\xce\\x12\\x10\\x11\\x84uy}\\xacy+\\x7f\\xf4\\xba\\xb7\\x80\\\\\\x04\\xf5\\xdf\\x9c\\xcf\\xcb\\xfd\\xa0\\xde\\x9d\\xcd\\xfd\\xf6g\\xafO\\xd82?\\x19\\xc5\\xd3\\xe1\\x12\\xe8\\x07\\xfb\\xdd\\xd0\\xc0\\x0fM\\xf9\\x8aY]\\xf2\\xd5\\xbb\\x00\\n\\xa27LdY\\x89\\xf9\\xd4\\xce\\xaeOW\\x9e\\x19}\\xc9\\xef\\x80G\\'\\xd2\\xeeSY\\'&}\\xaa\\x07?\\xb8F\\xb7SW*\\xed\\xd3D\\x9e]\\x1e\\x8b\\x03\\x1c\\x1b\\xf3\\xaah\\x88\\xd5@eT\\x92\\x99G\\xd1:9KY\\x86\\xbd\\xa91\\xb7)u;\\xf8\\xcd\\xced\\xe8\\xa0:\\xc15\\x95\\xc8\\xd8\\t\\xf1L\\xec\\x05M*l\\xa4\\x02\\xa2\\xb7\\xbf\\x0b<\\x85\\x94<lg>\\xfd\\xde\\xc8#\\te\\xa2\\xb1@\\x87v\\xb6\\xf4VJ\\xaeru\\xef\\xe8\\x91\\x1d\\xa4\\xcf\\xc1\\xf2=N(\\xa06\\x98\\x7fy\\x0f\\x7fM\\x95~\\x17\\xecUy>1w\\xb7\\xdf#\\xb6\\xc9!\\xd2\\x88x\\xfa\\x89\\xff\\xe9\\xa7\\xd8e\\xebh\\xad\\x97Q\\x17\\xee\\xce\\xbf\\x17\\xa8I\\\\\\x0e8\\xd2\\xe2\\x84gh\\xf7\\xea)\\xfd\\xadH\\xf2\\xacuVE\\xb5^\\xce\\xe10\\x82\\xbb\\x18m\\x1c\\x18\\xb0\\xabD\\x943J\\xa8n\\x95\\nq#tq$bX\\x03\\x00\\x00\\x00posq%Mp\\x02uX\\t\\x00\\x00\\x00has_gaussq&K\\x00X\\x05\\x00\\x00\\x00gaussq\\'G\\x00\\x00\\x00\\x00\\x00\\x00\\x00\\x00ubX\\x06\\x00\\x00\\x00n_iterq(K\\x1eX\\x03\\x00\\x00\\x00tolq)G?\\x84z\\xe1G\\xae\\x14{X\\x07\\x00\\x00\\x00verboseq*\\x89X\\x08\\x00\\x00\\x00monitor_q+chmmlearn.base\\nConvergenceMonitor\\nq,)\\x81q-}q.(h)G?\\x84z\\xe1G\\xae\\x14{h(K\\x1eh*\\x89X\\x07\\x00\\x00\\x00historyq/ccollections\\ndeque\\nq0)K\\x02\\x86q1Rq2(cnumpy.core.multiarray\\nscalar\\nq3h\\x1dX\\x02\\x00\\x00\\x00f8q4K\\x00K\\x01\\x87q5Rq6(K\\x03h!NNNJ\\xff\\xff\\xff\\xffJ\\xff\\xff\\xff\\xffK\\x00tq7bC\\x08B\\xe1\\xb3\\xb1\\x98Co\\xc1q8\\x86q9Rq:h3h6C\\x08\\x17\\xfaAf\\x8cCo\\xc1q;\\x86q<Rq=eX\\x04\\x00\\x00\\x00iterq>K\\x1eubX\\n\\x00\\x00\\x00n_featuresq?h3h\\x1dX\\x02\\x00\\x00\\x00i8q@K\\x00K\\x01\\x87qARqB(K\\x03h!NNNJ\\xff\\xff\\xff\\xffJ\\xff\\xff\\xff\\xffK\\x00tqCbC\\x08\\x04\\x00\\x00\\x00\\x00\\x00\\x00\\x00qD\\x86qERqFX\\n\\x00\\x00\\x00startprob_qGh\\x16h\\x17K\\x00\\x85qHh\\x19\\x87qIRqJ(K\\x01K\\x05\\x85qKh6\\x89C(\\x00\\x00\\x00\\x00\\x00\\x00\\x00\\x00\\x00\\x00\\x00\\x00\\x00\\x00\\x00\\x00\\x00\\x00\\x00\\x00\\x00\\x00\\x00\\x00\\x00\\x00\\x00\\x00\\x00\\x00\\xf0?\\x00\\x00\\x00\\x00\\x00\\x00\\x00\\x00qLtqMbX\\t\\x00\\x00\\x00transmat_qNh\\x16h\\x17K\\x00\\x85qOh\\x19\\x87qPRqQ(K\\x01K\\x05K\\x05\\x86qRh6\\x89C\\xc8\\x00\\x00\\x00\\x00\\x00\\x00\\x00\\x00\\x00\\x00\\x00\\x00\\x00\\x00\\xf0?\\x00\\x00\\x00\\x00\\x00\\x00\\x00\\x00\\x00\\x00\\x00\\x00\\x00\\x00\\x00\\x00\\x00\\x00\\x00\\x00\\x00\\x00\\x00\\x00\\x00\\x00\\x00\\x00\\x00\\x00\\x00\\x00\\x00\\x00\\x00\\x00\\x00\\x00\\x00\\x00\\x00\\x00\\x00\\x00\\x00\\x00\\xf0?\\x00\\x00\\x00\\x00\\x00\\x00\\x00\\x00\\x00\\x00\\x00\\x00\\x00\\x00\\x00\\x00\\x8e\\xb9\\x0b\\x10Fp\\xef?\\x00\\x00\\x00\\x00\\x00\\x00\\x00\\x00\\x00\\x00\\x00\\x00\\x00\\x00\\x00\\x00&\\x14\\x95\\xff\\x9c\\xf6d?lW,\\xbd\\xd4\\xb0\\x8e?,]\\\\\\x1c\\xd6\\xd5\\x82?\\x00\\x00\\x00\\x00\\x00\\x00\\x00\\x00\\x00\\x00\\x00\\x00\\x00\\x00\\x00\\x00\\x8b\\x8e\\x8e\\xa7\\xa8\\xb4\\xef?\\x00\\x00\\x00\\x00\\x00\\x00\\x00\\x00\\xc0H\\x01\\x08^\\xe5\\x8e?\\x00\\x00\\x00\\x00\\x00\\x00\\x00\\x00\\x00\\x00\\x00\\x00\\x00\\x00\\x00\\x00\\x00\\x00\\x00\\x00\\x00\\x00\\x00\\x00\\xdd\\xfa\\xdf\\x87j\\x84\\xef?qStqTbX\\r\\x00\\x00\\x00emissionprob_qUh\\x16h\\x17K\\x00\\x85qVh\\x19\\x87qWRqX(K\\x01K\\x05K\\x04\\x86qYh6\\x89C\\xa04*\\xc3\\xdaLB\\xd5?\\xf6\\xf7\\xae$Kf\\xc3?\\x13\\x89\\xe89S\\x15\\xd2?~\\xa1\\xf9\\xb1t\\xea\\xcd?gP\\x13\\x8d\\xb2@\\xd5?\\x9b\\\\\\x9d\\x91\\x02\\xb5\\xce?\\x95\\\\\\xb2\\x04\\xc98\\xc3?\\x02\\xd3\\xc4\\xa7g\\xc8\\xd1?h0\\xd3\\x18\\x05\\x1a\\xd5?k^=X[Y\\xc7?\"\\xc7\\xcb\\x8a\\x86\\x0c\\xc8?\\xd2<\\xa8\\xf5\\t3\\xd3?\\x06\\xa3g\\xc2#\\xa5\\xd9?\\xca\\xd8\\xd5\\x06MS\\xbd?S\\xe6\\x8a\\xd4#I\\xc0?\\x9fs\\x9d\\x11w\\xe1\\xd6?4\\xbc\\xad`3\\x12\\xcc?\\xc3\\xbe=\\x87\\x9b\\x04\\xcb?\\xe2 4b\\xe0a\\xc4?\\x132\\xf0Z\\xa8C\\xda?qZtq[bub.'}"
            ]
          },
          "metadata": {
            "tags": []
          },
          "execution_count": 25
        }
      ]
    },
    {
      "cell_type": "code",
      "metadata": {
        "id": "4K73VZmVT0rs",
        "colab_type": "code",
        "colab": {
          "base_uri": "https://localhost:8080/",
          "height": 352
        },
        "outputId": "9aeda9a6-6b9a-48de-af80-43a6eb9645c0"
      },
      "source": [
        "## SAVING MODELS AND bringing them back. below is comented aut code for saving and downloading resulting models to local\n",
        "#import pickle\n",
        "#with open(\"iter_30_17_chromosomes.pkl\", \"wb\") as file: pickle.dump(basic_model, file)\n",
        "#files.download(\"iter_30_17_chromosomes.pkl\")\n",
        "\n",
        "# here's how to bring a model into python, based on havnig uploaded it to the directory.\n",
        "import pickle\n",
        "with open(\"14chrom10itermod.pkl\", \"rb\") as file: model_14_10=pickle.load(file) \n",
        "annotation_numeric = model_14_10.predict(test_data)  \n",
        "annotation = translate_numbers_to_symbol_sequence(annotation_numeric, hidden_states)\n",
        "gene_positions = get_gene_start_and_stop_from_annotation(annotation, \n",
        "                                                        gene_pattern = '[^N]+') \n",
        "\n",
        "aa_sequences = translate_genes(gene_positions, ref_chromo)  #\n",
        "plot_protein_length_distribution(aa_sequences)\n",
        "print(\" Number of genes =\", len(gene_positions))   # note, I have aproximately the same number of genes as augustus\n"
      ],
      "execution_count": 24,
      "outputs": [
        {
          "output_type": "stream",
          "text": [
            "/usr/local/lib/python3.6/dist-packages/Bio/Seq.py:2859: BiopythonWarning: Partial codon, len(sequence) not a multiple of three. Explicitly trim the sequence or add trailing N before translation. This may become an error in future.\n",
            "  BiopythonWarning,\n"
          ],
          "name": "stderr"
        },
        {
          "output_type": "stream",
          "text": [
            " Number of genes = 3078\n"
          ],
          "name": "stdout"
        },
        {
          "output_type": "display_data",
          "data": {
            "image/png": "[encoded data removed]",
            "text/plain": [
              "<Figure size 432x288 with 1 Axes>"
            ]
          },
          "metadata": {
            "tags": []
          }
        }
      ]
    },
    {
      "cell_type": "markdown",
      "metadata": {
        "id": "UynO5VZNTQj7",
        "colab_type": "text"
      },
      "source": [
        "Clearly, this model seems better at avoiding the crazy high gene lengths, although we now severly under estimate the total number of genes, at approximately 3000 compared to approx 5500 from NCBI or Augustus. \n",
        "So, does including all chromosomes in the training make things even better?\n",
        "Lets check that using a model based on all of them, where I also threw in an extra 20 iterations for good measure."
      ]
    },
    {
      "cell_type": "code",
      "metadata": {
        "id": "HPzaqau7TZ4U",
        "colab_type": "code",
        "colab": {
          "base_uri": "https://localhost:8080/",
          "height": 352
        },
        "outputId": "6ac19fbf-6126-42ba-f90a-83459cd49b76"
      },
      "source": [
        "import pickle\n",
        "with open(\"iter_30_17_chromosomes.pkl\", \"rb\") as file: model_17_30=pickle.load(file) \n",
        "annotation_numeric = model_17_30.predict(test_data)  \n",
        "annotation = translate_numbers_to_symbol_sequence(annotation_numeric, hidden_states)\n",
        "gene_positions = get_gene_start_and_stop_from_annotation(annotation, \n",
        "                                                        gene_pattern = '[^N]+') \n",
        "\n",
        "aa_sequences = translate_genes(gene_positions, ref_chromo)  #\n",
        "plot_protein_length_distribution(aa_sequences)\n",
        "print(\" Number of genes =\", len(gene_positions))   # note, I have aproximately the same number of genes as augustus"
      ],
      "execution_count": 26,
      "outputs": [
        {
          "output_type": "stream",
          "text": [
            "/usr/local/lib/python3.6/dist-packages/Bio/Seq.py:2859: BiopythonWarning: Partial codon, len(sequence) not a multiple of three. Explicitly trim the sequence or add trailing N before translation. This may become an error in future.\n",
            "  BiopythonWarning,\n"
          ],
          "name": "stderr"
        },
        {
          "output_type": "stream",
          "text": [
            " Number of genes = 2090\n"
          ],
          "name": "stdout"
        },
        {
          "output_type": "display_data",
          "data": {
            "image/png": "[encoded data removed]",
            "text/plain": [
              "<Figure size 432x288 with 1 Axes>"
            ]
          },
          "metadata": {
            "tags": []
          }
        }
      ]
    },
    {
      "cell_type": "markdown",
      "metadata": {
        "id": "-N5SBFRKVJ_i",
        "colab_type": "text"
      },
      "source": [
        "NO, the model did not become better, sadly. It worse in a sense that we are back to getting huge gene length predictions and much to few genes in total. So, what does this tell us since one could assume that having more training data should lead to a better model? \n",
        "\n",
        "Well, this is highly dependent on having a sufficinetly good model as well, as one can never model reality if the assumptions made are simply too poor, which is apparently the case using this implistic model. \n",
        "\n",
        "However, my model did outperform the very basic 2 state model, at least if we consider the 14 chromosome trained model ! \n",
        "\n",
        "\n",
        "## Concluding remarks\n",
        "I wanted to compare wih augustus in a more rigorous way, for example blast some of the reasonably sized putative proteins found against augususes, but due to the workload I simply did not have the time.\n",
        "\n",
        "The main conclusions to be drawn is that the final model is very dependent both on the random seed, number of iterations and training data but also on the starting probabilities.\n",
        "Tweaking the starting values slightly gives huge differences in results, and thus one way to improve this or any other model is to try ans assign biological meaning to the starting values prior to fitting, since this will assist the learning algorithm greatly.\n",
        "\n",
        " \n",
        "\n",
        "\n"
      ]
    },
    {
      "cell_type": "code",
      "metadata": {
        "id": "LLS8sRVNkQsI",
        "colab_type": "code",
        "colab": {}
      },
      "source": [
        "#with open(\"iter_30_2_chromosomes.pkl\", \"wb\") as file: pickle.dump(basic_model, file)\n",
        "#files.download(\"iter_30_2_chromosomes.pkl\")"
      ],
      "execution_count": 0,
      "outputs": []
    }
  ]
}