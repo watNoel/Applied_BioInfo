{
 "cells": [
  {
   "cell_type": "markdown",
   "metadata": {
    "colab_type": "text",
    "id": "L8dI1VaSwb8y"
   },
   "source": [
    "# Python Homework 3: Transforming and Searching\n",
    "\n",
    "\n",
    "### Evaluation\n",
    "\n",
    "To check the correctness of your code, we will run it against prepared test cases."
   ]
  },
  {
   "cell_type": "markdown",
   "metadata": {
    "colab_type": "text",
    "id": "Ofxan3uSwb81"
   },
   "source": [
    "## Burrows–Wheeler transform\n",
    "\n",
    "In order to feasibly align millions of small reads to a genome, \n",
    "one needs to decrease the complexity (increase the speed)\n",
    "of the matching operation between any two sequences.\n",
    "\n",
    "One approach is to somehow preprocess the reference genome such that\n",
    "one could \"know\" where a given read may match.\n",
    "\n",
    "A good lecture by David Gifford explaining the algorithms used in the FM-index (\"full text - minute size index\") in more detail: https://youtu.be/P3ORBMon8aw?t=1020 (~1 h)\n",
    "\n",
    "The starting point in creating this index is obtaining the Burrows–Wheeler transform of the genome.\n",
    "\n",
    "### Assignment 3.1.\n",
    "\n",
    "Implement a Python function `burrows_wheeler_transform(sequence)` that implements the Burrows–Wheeler transform.\n",
    "You may use whichever approach you're comfortable with,\n",
    "either by generating the rotations matrix and taking the last column, or by using the suffix array formula.\n",
    "\n",
    "You may also structure the code as you like.\n",
    "Writing separate functions for specific operations may help you organize the overall structure of the code.\n",
    "\n",
    "***Tips***\n",
    "\n",
    "Remember to give meaningful names to your variables, functions, etc. and let the code speak for itself.\n",
    "Write comments where you think you need to clarify behaviour.\n",
    "\n",
    "It's not about esthetics. Future you and other people should be able to understand the code.\n",
    "Code is very often reused (even stuff we assume are one-offs) \n",
    "and it's frequently necessary to make slight adjustments when reusing.\n",
    "\n",
    "Also, if people can't understand your code, they can ever be fully convinced that it's correct.\n",
    "It's not always possible or feasible to design an exhaustive battery of tests to account for all cases."
   ]
  },
  {
   "cell_type": "code",
   "execution_count": null,
   "metadata": {
    "colab": {},
    "colab_type": "code",
    "id": "MgU-qfdEwb83"
   },
   "outputs": [],
   "source": [
    "def burrows_wheeler_transform(sequence):\n",
    "  BWT=\"\" # create empty string\n",
    "  #begin by creating the burrows wheeler matrix by this following algorithm:\n",
    "  seq_length=len(sequence)\n",
    "  double_sequence = sequence+sequence # We can find all permutations from this + the following for loop!\n",
    "    # i realize it may be bad for storing\n",
    "  \n",
    "  list_of_permutations=list()\n",
    "  \n",
    "  for idx in range(seq_length):\n",
    "      list_of_permutations.append(double_sequence[idx:(idx+seq_length)])\n",
    " \n",
    "\n",
    "\n",
    "  # sort lexicographically based on the first letters\n",
    "  list_of_permutations.sort()\n",
    "  \n",
    "  \n",
    "  # finally extract final letter of every string from the sorted list\n",
    "  for letter in range(seq_length): \n",
    "      BWT+=list_of_permutations[letter][-1] # the last letter of sorted permutatoins\n",
    "  return BWT\n",
    "  \n",
    "\n",
    "#BWT= burrows_wheeler_transform('sequence$')\n",
    "#print(BWT)\n"
   ]
  },
  {
   "cell_type": "code",
   "execution_count": null,
   "metadata": {
    "colab": {
     "base_uri": "https://localhost:8080/",
     "height": 34
    },
    "colab_type": "code",
    "id": "nPYeIMerx14f",
    "outputId": "59dce9d9-86dd-4f22-aef1-73da28ff0777"
   },
   "outputs": [],
   "source": [
    "# minor tests\n",
    "len('sequence')\n",
    "range(len('sequence')) # is 0-8\n",
    "max(range(len('sequence'))) # is 7"
   ]
  },
  {
   "cell_type": "markdown",
   "metadata": {
    "colab_type": "text",
    "id": "_bwiWI71wb87"
   },
   "source": [
    "### Test"
   ]
  },
  {
   "cell_type": "code",
   "execution_count": null,
   "metadata": {
    "colab": {
     "base_uri": "https://localhost:8080/",
     "height": 51
    },
    "colab_type": "code",
    "id": "lfPs3UkVwb88",
    "outputId": "e2b06fe2-afba-4d74-9ced-d763641624af"
   },
   "outputs": [],
   "source": [
    "print(burrows_wheeler_transform('ACGTACGTACGTACGTACGTACGTTGCATGCA$') == 'AC$TTTTTCGGAAAAAATTCCCCCCGGGGGATG')"
   ]
  },
  {
   "cell_type": "markdown",
   "metadata": {
    "colab_type": "text",
    "id": "wwOE9AbTwb8_"
   },
   "source": [
    "### Assignment 3.2.\n",
    "\n",
    "\n",
    "\n",
    "The Burrows-Wheeler transform comes from data compression circles.\n",
    "One can leverage the BWT of a sequence to represent the transformed sequence using fewer characters.\n",
    "\n",
    "Describe in the cell below (as free text, not code) a way to take the BWT of a sequence (call it `T = bwt(sequence)`) and represent it using a shorter sequence (fewer characters). Remember that you should be able to retrieve `T` from this shorter sequence, i.e. there's no loss of information. "
   ]
  },
  {
   "cell_type": "markdown",
   "metadata": {
    "colab_type": "text",
    "id": "C_M0QquBwb9A"
   },
   "source": [
    "# ANSWER to 3.2\n",
    "\n",
    "\n",
    "One idea is to count the consequtive counts of every letter after it occurs and instead of storing the letters, store the letter and a number representing how many succeding letters are of the same type.\n",
    " For example, TTTTT would be T4, ATTGGGG would be AT1G3 and\n",
    "  the sequence ACSTTTTTCGGAAAAAATTCCCCCCGGGGGATG would be stored as ACST4CG1A5T1C5G4ATG.\n",
    "\n",
    "\n"
   ]
  },
  {
   "cell_type": "markdown",
   "metadata": {
    "colab_type": "text",
    "id": "KqQyqWn1wb9A"
   },
   "source": [
    "## Binary search\n",
    "\n",
    "The binary (or \"bisection\") search method is a useful general-purpose approach to finding a value of interest in a sorted set of values.\n",
    "\n",
    "A nice feature in Python is that strings can be compared and sorted directly."
   ]
  },
  {
   "cell_type": "code",
   "execution_count": null,
   "metadata": {
    "colab": {
     "base_uri": "https://localhost:8080/",
     "height": 51
    },
    "colab_type": "code",
    "id": "qOylVmbrwb9B",
    "outputId": "89bd3e67-9fd7-4345-e17f-2e57ee15cc28"
   },
   "outputs": [],
   "source": [
    "print('abc' < 'abd')\n",
    "print('ab' < 'abc')"
   ]
  },
  {
   "cell_type": "markdown",
   "metadata": {
    "colab_type": "text",
    "id": "jhPDjTZGwb9F"
   },
   "source": [
    "The built-in library [bisect](https://docs.python.org/3/library/bisect.html) \n",
    "offers some functions to find where a query element can be inserted in a sorted list,\n",
    "either from the left (`bisect_left`), or from the right (`bisect_right`).\n",
    "\n",
    "The documentation page above has some recipes for using these functions.\n",
    "Below is an example use to search for a query item in a list."
   ]
  },
  {
   "cell_type": "code",
   "execution_count": null,
   "metadata": {
    "colab": {},
    "colab_type": "code",
    "id": "G6GrEaKRwb9G"
   },
   "outputs": [],
   "source": [
    "# This is how you import only a single definition (function, constant, class, etc) from a module\n",
    "# You can then use the name directly\n",
    "from bisect import bisect_left\n",
    "\n",
    "def binary_search_index(items, query_item):\n",
    "    \"\"\"\n",
    "    Locate the leftmost value exactly equal to query_item in items\n",
    "    and return its index or -1 if the value is not found\n",
    "    \n",
    "    Input: \n",
    "    items = list of comparable elements (integers, strings, etc)\n",
    "    query_item = item to search for in items (must be of same data type as elements in items)\n",
    "    \n",
    "    Output:\n",
    "    Index of matching value or -1 if not found\n",
    "    \"\"\"\n",
    "    i = bisect_left(items, query_item)\n",
    "    if i != len(items) and items[i] == query_item:\n",
    "        return i\n",
    "    return -1\n",
    "\n",
    "# Make sure the list of items to search through is actually sorted\n",
    "items = sorted(['abc', 'ab', 'abd', 'aba', 'aaa'])\n",
    "binary_search_index(items, 'abd')"
   ]
  },
  {
   "cell_type": "markdown",
   "metadata": {
    "colab_type": "text",
    "id": "EvSgUBWqwb9J"
   },
   "source": [
    "It is however useful to get a feeling for how binary search is implemented.\n",
    "\n",
    "### Assignment 3.2.\n",
    "\n",
    "Here you are given skeleton code for a binary search function from scratch.\n",
    "Fill in the blanks to finish the implementation of the binary search function."
   ]
  },
  {
   "cell_type": "code",
   "execution_count": null,
   "metadata": {
    "colab": {},
    "colab_type": "code",
    "id": "a_WeXlgIwb9K"
   },
   "outputs": [],
   "source": [
    "def binary_search(items, query_item):\n",
    "\n",
    "    # THIS PIECE OF CODE REQUIRES A SORTED INPUT\n",
    "\n",
    "    \"\"\"\n",
    "    Locate the leftmost value exactly equal to query_item in items\n",
    "    and return its index or -1 if the value is not found\n",
    "    \n",
    "    Input: \n",
    "    items = list of comparable elements (integers, strings, etc)\n",
    "    query_item = item to search for in items (must be of same data type as elements in items)\n",
    "    \n",
    "    Output:\n",
    "    Index of matching value or -1 if not found\n",
    "    \"\"\"\n",
    "    \n",
    "\n",
    "    # The idea is to iteratively halve the items list,\n",
    "    # since we know the values are sorted.\n",
    "    # We keep track of the current half to look in by the bounding indices\n",
    "    \n",
    "    # Start off by considering the entire items list\n",
    "    first_index = 0\n",
    "    last_index = len(items) - 1 # since indexes start from zero and not one\n",
    "\n",
    "    # Now the loop! first index will eventually become larger than last index iff query is not in the list!\n",
    "\n",
    "    while first_index <= last_index: # less or equal since might be that we find match when they are equal, i.e in theoretically final loop\n",
    "        # Get middle index between first and last indices of current half\n",
    "        midpoint = (first_index + last_index) // 2 # rounds down, if i want round up all values instead, just add 1 before dividing by 2\n",
    "        # the // simply means divide and make outout integer!\n",
    "        # The query item is at the midpoint\n",
    "        if items[midpoint] == query_item: \n",
    "            return midpoint # this means we found the match!\n",
    "        \n",
    "        else:\n",
    "            # The list is sorted.\n",
    "            # So if the query item's value is less than the value at the current half midpoint,\n",
    "            # we know the query must be to the left of the midpoint.\n",
    "            if query_item < items[midpoint]:\n",
    "                # Bisect the current interval and take the left half\n",
    "                # the -1 is useful since we already checked midpoint and know it is smaller than that\n",
    "                last_index = midpoint-1  \n",
    "                \n",
    "            # Otherwise, the query item must be to the right of the midpoint\n",
    "            else:\n",
    "                # Bisect the current interval and take the right half\n",
    "                # THe +1 follows  logic similar to -1 when taking the left side\n",
    "                first_index =  midpoint+1   \n",
    "    return -1 # if the item wasnt within the list"
   ]
  },
  {
   "cell_type": "markdown",
   "metadata": {
    "colab_type": "text",
    "id": "0Kqz_Vwzwb9N"
   },
   "source": [
    "### Tests"
   ]
  },
  {
   "cell_type": "code",
   "execution_count": null,
   "metadata": {
    "colab": {
     "base_uri": "https://localhost:8080/",
     "height": 68
    },
    "colab_type": "code",
    "id": "mKpgCYgewb9O",
    "outputId": "c8e8629c-bfdb-4564-b6e1-040cf6d0df56"
   },
   "outputs": [],
   "source": [
    "items = sorted(['abc', 'ab', 'abd', 'aba', 'aaa'])\n",
    "# print(items)\n",
    "print(binary_search(items, 'abd'))\n",
    "print(binary_search(items, 'abc'))\n",
    "#print(binary_search(items, 'x')) #gives -1"
   ]
  },
  {
   "cell_type": "code",
   "execution_count": null,
   "metadata": {
    "colab": {},
    "colab_type": "code",
    "id": "qR0NvpATwb9R"
   },
   "outputs": [],
   "source": []
  }
 ],
 "metadata": {
  "colab": {
   "collapsed_sections": [],
   "name": "python_hw3_indexing.ipynb",
   "provenance": []
  },
  "kernelspec": {
   "display_name": "Python 3",
   "language": "python",
   "name": "python3"
  },
  "language_info": {
   "codemirror_mode": {
    "name": "ipython",
    "version": 3
   },
   "file_extension": ".py",
   "mimetype": "text/x-python",
   "name": "python",
   "nbconvert_exporter": "python",
   "pygments_lexer": "ipython3",
   "version": "3.7.4"
  }
 },
 "nbformat": 4,
 "nbformat_minor": 1
}
